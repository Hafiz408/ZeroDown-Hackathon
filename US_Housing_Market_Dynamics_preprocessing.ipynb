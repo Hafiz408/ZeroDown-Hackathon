{
 "cells": [
  {
   "cell_type": "code",
   "execution_count": 1,
   "metadata": {
    "id": "hrEdFRnGdKry"
   },
   "outputs": [],
   "source": [
    "import pandas as pd\n",
    "import matplotlib.pyplot as plt\n",
    "import seaborn as sns\n",
    "import plotly.express as px\n",
    "import plotly.graph_objects as go"
   ]
  },
  {
   "cell_type": "code",
   "execution_count": 2,
   "metadata": {
    "id": "vluKMe8fdOMf"
   },
   "outputs": [],
   "source": [
    "df = pd.read_csv(r'C:\\Users\\hp\\Downloads\\weekly_market_2017_2022.tsv', sep='\\t')"
   ]
  },
  {
   "cell_type": "markdown",
   "metadata": {
    "id": "4FaPWYD1fkhN"
   },
   "source": [
    "# EDA"
   ]
  },
  {
   "cell_type": "code",
   "execution_count": 3,
   "metadata": {
    "colab": {
     "base_uri": "https://localhost:8080/"
    },
    "id": "TY-bkTYXdprL",
    "outputId": "6c02fd6d-e0d5-4672-ff50-2f2fc0d8f9d1"
   },
   "outputs": [
    {
     "data": {
      "text/html": [
       "<div>\n",
       "<style scoped>\n",
       "    .dataframe tbody tr th:only-of-type {\n",
       "        vertical-align: middle;\n",
       "    }\n",
       "\n",
       "    .dataframe tbody tr th {\n",
       "        vertical-align: top;\n",
       "    }\n",
       "\n",
       "    .dataframe thead th {\n",
       "        text-align: right;\n",
       "    }\n",
       "</style>\n",
       "<table border=\"1\" class=\"dataframe\">\n",
       "  <thead>\n",
       "    <tr style=\"text-align: right;\">\n",
       "      <th></th>\n",
       "      <th>region_id</th>\n",
       "      <th>region_type_id</th>\n",
       "      <th>region_name</th>\n",
       "      <th>region_type</th>\n",
       "      <th>period_begin</th>\n",
       "      <th>period_end</th>\n",
       "      <th>duration</th>\n",
       "      <th>total_homes_sold</th>\n",
       "      <th>total_homes_sold_yoy</th>\n",
       "      <th>average_homes_sold</th>\n",
       "      <th>...</th>\n",
       "      <th>average_adjustment_average_homes_sold</th>\n",
       "      <th>adjusted_average_homes_sold</th>\n",
       "      <th>average_adjustment_average_new_listings</th>\n",
       "      <th>adjusted_average_new_listings</th>\n",
       "      <th>average_adjustment_pending_sales</th>\n",
       "      <th>adjusted_pending_sales</th>\n",
       "      <th>adjusted_average_homes_delisted_yoy</th>\n",
       "      <th>adjusted_average_homes_sold_yoy</th>\n",
       "      <th>adjusted_average_new_listings_yoy</th>\n",
       "      <th>adjusted_pending_sales_yoy</th>\n",
       "    </tr>\n",
       "  </thead>\n",
       "  <tbody>\n",
       "    <tr>\n",
       "      <th>0</th>\n",
       "      <td>441</td>\n",
       "      <td>5</td>\n",
       "      <td>Brevard County, FL</td>\n",
       "      <td>county</td>\n",
       "      <td>2021-04-12</td>\n",
       "      <td>2021-04-18</td>\n",
       "      <td>1 weeks</td>\n",
       "      <td>334.0</td>\n",
       "      <td>0.629268</td>\n",
       "      <td>334.0</td>\n",
       "      <td>...</td>\n",
       "      <td>NaN</td>\n",
       "      <td>334.0</td>\n",
       "      <td>NaN</td>\n",
       "      <td>283.0</td>\n",
       "      <td>NaN</td>\n",
       "      <td>284.0</td>\n",
       "      <td>-0.512195</td>\n",
       "      <td>0.629268</td>\n",
       "      <td>0.132000</td>\n",
       "      <td>1.103704</td>\n",
       "    </tr>\n",
       "    <tr>\n",
       "      <th>1</th>\n",
       "      <td>441</td>\n",
       "      <td>5</td>\n",
       "      <td>Brevard County, FL</td>\n",
       "      <td>county</td>\n",
       "      <td>2019-03-18</td>\n",
       "      <td>2019-03-24</td>\n",
       "      <td>1 weeks</td>\n",
       "      <td>248.0</td>\n",
       "      <td>-0.057034</td>\n",
       "      <td>248.0</td>\n",
       "      <td>...</td>\n",
       "      <td>NaN</td>\n",
       "      <td>248.0</td>\n",
       "      <td>NaN</td>\n",
       "      <td>291.0</td>\n",
       "      <td>NaN</td>\n",
       "      <td>147.0</td>\n",
       "      <td>0.000000</td>\n",
       "      <td>-0.057034</td>\n",
       "      <td>-0.115502</td>\n",
       "      <td>-0.051613</td>\n",
       "    </tr>\n",
       "    <tr>\n",
       "      <th>2</th>\n",
       "      <td>682</td>\n",
       "      <td>5</td>\n",
       "      <td>Caribou County, ID</td>\n",
       "      <td>county</td>\n",
       "      <td>2017-03-13</td>\n",
       "      <td>2017-03-19</td>\n",
       "      <td>1 weeks</td>\n",
       "      <td>1.0</td>\n",
       "      <td>NaN</td>\n",
       "      <td>1.0</td>\n",
       "      <td>...</td>\n",
       "      <td>NaN</td>\n",
       "      <td>1.0</td>\n",
       "      <td>NaN</td>\n",
       "      <td>NaN</td>\n",
       "      <td>NaN</td>\n",
       "      <td>NaN</td>\n",
       "      <td>NaN</td>\n",
       "      <td>NaN</td>\n",
       "      <td>NaN</td>\n",
       "      <td>NaN</td>\n",
       "    </tr>\n",
       "    <tr>\n",
       "      <th>3</th>\n",
       "      <td>155</td>\n",
       "      <td>5</td>\n",
       "      <td>Jefferson County, AL</td>\n",
       "      <td>county</td>\n",
       "      <td>2018-03-26</td>\n",
       "      <td>2018-04-01</td>\n",
       "      <td>1 weeks</td>\n",
       "      <td>283.0</td>\n",
       "      <td>0.092664</td>\n",
       "      <td>283.0</td>\n",
       "      <td>...</td>\n",
       "      <td>NaN</td>\n",
       "      <td>283.0</td>\n",
       "      <td>NaN</td>\n",
       "      <td>216.0</td>\n",
       "      <td>NaN</td>\n",
       "      <td>182.0</td>\n",
       "      <td>-0.352941</td>\n",
       "      <td>0.092664</td>\n",
       "      <td>-0.175573</td>\n",
       "      <td>0.300000</td>\n",
       "    </tr>\n",
       "    <tr>\n",
       "      <th>4</th>\n",
       "      <td>441</td>\n",
       "      <td>5</td>\n",
       "      <td>Brevard County, FL</td>\n",
       "      <td>county</td>\n",
       "      <td>2019-07-29</td>\n",
       "      <td>2019-08-04</td>\n",
       "      <td>1 weeks</td>\n",
       "      <td>364.0</td>\n",
       "      <td>0.120000</td>\n",
       "      <td>364.0</td>\n",
       "      <td>...</td>\n",
       "      <td>NaN</td>\n",
       "      <td>364.0</td>\n",
       "      <td>NaN</td>\n",
       "      <td>296.0</td>\n",
       "      <td>NaN</td>\n",
       "      <td>219.0</td>\n",
       "      <td>0.106383</td>\n",
       "      <td>0.120000</td>\n",
       "      <td>-0.175487</td>\n",
       "      <td>0.123077</td>\n",
       "    </tr>\n",
       "    <tr>\n",
       "      <th>5</th>\n",
       "      <td>441</td>\n",
       "      <td>5</td>\n",
       "      <td>Brevard County, FL</td>\n",
       "      <td>county</td>\n",
       "      <td>2021-11-08</td>\n",
       "      <td>2021-11-14</td>\n",
       "      <td>1 weeks</td>\n",
       "      <td>270.0</td>\n",
       "      <td>0.054688</td>\n",
       "      <td>270.0</td>\n",
       "      <td>...</td>\n",
       "      <td>NaN</td>\n",
       "      <td>270.0</td>\n",
       "      <td>NaN</td>\n",
       "      <td>330.0</td>\n",
       "      <td>NaN</td>\n",
       "      <td>243.0</td>\n",
       "      <td>-0.096774</td>\n",
       "      <td>0.054688</td>\n",
       "      <td>0.141869</td>\n",
       "      <td>0.162679</td>\n",
       "    </tr>\n",
       "    <tr>\n",
       "      <th>6</th>\n",
       "      <td>282</td>\n",
       "      <td>5</td>\n",
       "      <td>Pike County, AR</td>\n",
       "      <td>county</td>\n",
       "      <td>2021-08-16</td>\n",
       "      <td>2021-08-22</td>\n",
       "      <td>1 weeks</td>\n",
       "      <td>2.0</td>\n",
       "      <td>NaN</td>\n",
       "      <td>2.0</td>\n",
       "      <td>...</td>\n",
       "      <td>NaN</td>\n",
       "      <td>2.0</td>\n",
       "      <td>NaN</td>\n",
       "      <td>2.0</td>\n",
       "      <td>NaN</td>\n",
       "      <td>1.0</td>\n",
       "      <td>NaN</td>\n",
       "      <td>NaN</td>\n",
       "      <td>-0.333333</td>\n",
       "      <td>NaN</td>\n",
       "    </tr>\n",
       "    <tr>\n",
       "      <th>7</th>\n",
       "      <td>2566</td>\n",
       "      <td>5</td>\n",
       "      <td>Dickson County, TN</td>\n",
       "      <td>county</td>\n",
       "      <td>2017-01-16</td>\n",
       "      <td>2017-01-22</td>\n",
       "      <td>1 weeks</td>\n",
       "      <td>4.0</td>\n",
       "      <td>-0.333333</td>\n",
       "      <td>4.0</td>\n",
       "      <td>...</td>\n",
       "      <td>NaN</td>\n",
       "      <td>4.0</td>\n",
       "      <td>NaN</td>\n",
       "      <td>14.0</td>\n",
       "      <td>NaN</td>\n",
       "      <td>7.0</td>\n",
       "      <td>NaN</td>\n",
       "      <td>-0.333333</td>\n",
       "      <td>1.000000</td>\n",
       "      <td>6.000000</td>\n",
       "    </tr>\n",
       "    <tr>\n",
       "      <th>8</th>\n",
       "      <td>1158</td>\n",
       "      <td>5</td>\n",
       "      <td>Harrison County, KY</td>\n",
       "      <td>county</td>\n",
       "      <td>2019-08-26</td>\n",
       "      <td>2019-09-01</td>\n",
       "      <td>1 weeks</td>\n",
       "      <td>5.0</td>\n",
       "      <td>1.500000</td>\n",
       "      <td>5.0</td>\n",
       "      <td>...</td>\n",
       "      <td>NaN</td>\n",
       "      <td>5.0</td>\n",
       "      <td>NaN</td>\n",
       "      <td>6.0</td>\n",
       "      <td>NaN</td>\n",
       "      <td>3.0</td>\n",
       "      <td>-0.500000</td>\n",
       "      <td>1.500000</td>\n",
       "      <td>-0.142857</td>\n",
       "      <td>0.000000</td>\n",
       "    </tr>\n",
       "    <tr>\n",
       "      <th>9</th>\n",
       "      <td>2566</td>\n",
       "      <td>5</td>\n",
       "      <td>Dickson County, TN</td>\n",
       "      <td>county</td>\n",
       "      <td>2017-02-27</td>\n",
       "      <td>2017-03-05</td>\n",
       "      <td>1 weeks</td>\n",
       "      <td>20.0</td>\n",
       "      <td>-0.090909</td>\n",
       "      <td>20.0</td>\n",
       "      <td>...</td>\n",
       "      <td>NaN</td>\n",
       "      <td>20.0</td>\n",
       "      <td>NaN</td>\n",
       "      <td>13.0</td>\n",
       "      <td>NaN</td>\n",
       "      <td>8.0</td>\n",
       "      <td>NaN</td>\n",
       "      <td>-0.090909</td>\n",
       "      <td>0.083333</td>\n",
       "      <td>-0.111111</td>\n",
       "    </tr>\n",
       "  </tbody>\n",
       "</table>\n",
       "<p>10 rows × 98 columns</p>\n",
       "</div>"
      ],
      "text/plain": [
       "   region_id  region_type_id           region_name region_type period_begin  \\\n",
       "0        441               5    Brevard County, FL      county   2021-04-12   \n",
       "1        441               5    Brevard County, FL      county   2019-03-18   \n",
       "2        682               5    Caribou County, ID      county   2017-03-13   \n",
       "3        155               5  Jefferson County, AL      county   2018-03-26   \n",
       "4        441               5    Brevard County, FL      county   2019-07-29   \n",
       "5        441               5    Brevard County, FL      county   2021-11-08   \n",
       "6        282               5       Pike County, AR      county   2021-08-16   \n",
       "7       2566               5    Dickson County, TN      county   2017-01-16   \n",
       "8       1158               5   Harrison County, KY      county   2019-08-26   \n",
       "9       2566               5    Dickson County, TN      county   2017-02-27   \n",
       "\n",
       "   period_end duration  total_homes_sold  total_homes_sold_yoy  \\\n",
       "0  2021-04-18  1 weeks             334.0              0.629268   \n",
       "1  2019-03-24  1 weeks             248.0             -0.057034   \n",
       "2  2017-03-19  1 weeks               1.0                   NaN   \n",
       "3  2018-04-01  1 weeks             283.0              0.092664   \n",
       "4  2019-08-04  1 weeks             364.0              0.120000   \n",
       "5  2021-11-14  1 weeks             270.0              0.054688   \n",
       "6  2021-08-22  1 weeks               2.0                   NaN   \n",
       "7  2017-01-22  1 weeks               4.0             -0.333333   \n",
       "8  2019-09-01  1 weeks               5.0              1.500000   \n",
       "9  2017-03-05  1 weeks              20.0             -0.090909   \n",
       "\n",
       "   average_homes_sold  ...  average_adjustment_average_homes_sold  \\\n",
       "0               334.0  ...                                    NaN   \n",
       "1               248.0  ...                                    NaN   \n",
       "2                 1.0  ...                                    NaN   \n",
       "3               283.0  ...                                    NaN   \n",
       "4               364.0  ...                                    NaN   \n",
       "5               270.0  ...                                    NaN   \n",
       "6                 2.0  ...                                    NaN   \n",
       "7                 4.0  ...                                    NaN   \n",
       "8                 5.0  ...                                    NaN   \n",
       "9                20.0  ...                                    NaN   \n",
       "\n",
       "   adjusted_average_homes_sold  average_adjustment_average_new_listings  \\\n",
       "0                        334.0                                      NaN   \n",
       "1                        248.0                                      NaN   \n",
       "2                          1.0                                      NaN   \n",
       "3                        283.0                                      NaN   \n",
       "4                        364.0                                      NaN   \n",
       "5                        270.0                                      NaN   \n",
       "6                          2.0                                      NaN   \n",
       "7                          4.0                                      NaN   \n",
       "8                          5.0                                      NaN   \n",
       "9                         20.0                                      NaN   \n",
       "\n",
       "   adjusted_average_new_listings  average_adjustment_pending_sales  \\\n",
       "0                          283.0                               NaN   \n",
       "1                          291.0                               NaN   \n",
       "2                            NaN                               NaN   \n",
       "3                          216.0                               NaN   \n",
       "4                          296.0                               NaN   \n",
       "5                          330.0                               NaN   \n",
       "6                            2.0                               NaN   \n",
       "7                           14.0                               NaN   \n",
       "8                            6.0                               NaN   \n",
       "9                           13.0                               NaN   \n",
       "\n",
       "   adjusted_pending_sales  adjusted_average_homes_delisted_yoy  \\\n",
       "0                   284.0                            -0.512195   \n",
       "1                   147.0                             0.000000   \n",
       "2                     NaN                                  NaN   \n",
       "3                   182.0                            -0.352941   \n",
       "4                   219.0                             0.106383   \n",
       "5                   243.0                            -0.096774   \n",
       "6                     1.0                                  NaN   \n",
       "7                     7.0                                  NaN   \n",
       "8                     3.0                            -0.500000   \n",
       "9                     8.0                                  NaN   \n",
       "\n",
       "   adjusted_average_homes_sold_yoy  adjusted_average_new_listings_yoy  \\\n",
       "0                         0.629268                           0.132000   \n",
       "1                        -0.057034                          -0.115502   \n",
       "2                              NaN                                NaN   \n",
       "3                         0.092664                          -0.175573   \n",
       "4                         0.120000                          -0.175487   \n",
       "5                         0.054688                           0.141869   \n",
       "6                              NaN                          -0.333333   \n",
       "7                        -0.333333                           1.000000   \n",
       "8                         1.500000                          -0.142857   \n",
       "9                        -0.090909                           0.083333   \n",
       "\n",
       "   adjusted_pending_sales_yoy  \n",
       "0                    1.103704  \n",
       "1                   -0.051613  \n",
       "2                         NaN  \n",
       "3                    0.300000  \n",
       "4                    0.123077  \n",
       "5                    0.162679  \n",
       "6                         NaN  \n",
       "7                    6.000000  \n",
       "8                    0.000000  \n",
       "9                   -0.111111  \n",
       "\n",
       "[10 rows x 98 columns]"
      ]
     },
     "execution_count": 3,
     "metadata": {},
     "output_type": "execute_result"
    }
   ],
   "source": [
    "df.head(10)"
   ]
  },
  {
   "cell_type": "code",
   "execution_count": 4,
   "metadata": {
    "colab": {
     "base_uri": "https://localhost:8080/"
    },
    "id": "iHy7_Y78eDTX",
    "outputId": "8c4c9f1a-5d75-49a2-b70d-7eaac86eec4a"
   },
   "outputs": [
    {
     "data": {
      "text/plain": [
       "1945431"
      ]
     },
     "execution_count": 4,
     "metadata": {},
     "output_type": "execute_result"
    }
   ],
   "source": [
    "len(df)"
   ]
  },
  {
   "cell_type": "code",
   "execution_count": 5,
   "metadata": {
    "colab": {
     "base_uri": "https://localhost:8080/"
    },
    "id": "0i1kRqeWeKvE",
    "outputId": "da004c32-c436-44db-bc24-59af97ce3c05"
   },
   "outputs": [
    {
     "name": "stdout",
     "output_type": "stream",
     "text": [
      "<class 'pandas.core.frame.DataFrame'>\n",
      "RangeIndex: 1945431 entries, 0 to 1945430\n",
      "Data columns (total 98 columns):\n",
      " #   Column                                        Dtype  \n",
      "---  ------                                        -----  \n",
      " 0   region_id                                     int64  \n",
      " 1   region_type_id                                int64  \n",
      " 2   region_name                                   object \n",
      " 3   region_type                                   object \n",
      " 4   period_begin                                  object \n",
      " 5   period_end                                    object \n",
      " 6   duration                                      object \n",
      " 7   total_homes_sold                              float64\n",
      " 8   total_homes_sold_yoy                          float64\n",
      " 9   average_homes_sold                            float64\n",
      " 10  average_homes_sold_yoy                        float64\n",
      " 11  total_homes_sold_with_price_drops             float64\n",
      " 12  total_homes_sold_with_price_drops_yoy         float64\n",
      " 13  average_homes_sold_with_price_drops           float64\n",
      " 14  average_homes_sold_with_price_drops_yoy       float64\n",
      " 15  percent_homes_sold_with_price_drops           float64\n",
      " 16  percent_homes_sold_with_price_drops_yoy       float64\n",
      " 17  median_sale_price                             float64\n",
      " 18  median_sale_price_yoy                         float64\n",
      " 19  median_sale_ppsf                              float64\n",
      " 20  median_sale_ppsf_yoy                          float64\n",
      " 21  median_days_to_close                          float64\n",
      " 22  median_days_to_close_yoy                      float64\n",
      " 23  price_drops                                   float64\n",
      " 24  price_drops_yoy                               float64\n",
      " 25  percent_active_listings_with_price_drops      float64\n",
      " 26  percent_active_listings_with_price_drops_yoy  float64\n",
      " 27  pending_sales                                 float64\n",
      " 28  pending_sales_yoy                             float64\n",
      " 29  median_pending_sqft                           float64\n",
      " 30  median_pending_sqft_yoy                       float64\n",
      " 31  off_market_in_two_weeks                       float64\n",
      " 32  off_market_in_two_weeks_yoy                   float64\n",
      " 33  off_market_in_one_week                        float64\n",
      " 34  off_market_in_one_week_yoy                    float64\n",
      " 35  percent_off_market_in_two_weeks               float64\n",
      " 36  percent_off_market_in_two_weeks_yoy           float64\n",
      " 37  percent_off_market_in_one_week                float64\n",
      " 38  percent_off_market_in_one_week_yoy            float64\n",
      " 39  total_new_listings                            float64\n",
      " 40  total_new_listings_yoy                        float64\n",
      " 41  average_new_listings                          float64\n",
      " 42  average_new_listings_yoy                      float64\n",
      " 43  median_new_listing_price                      float64\n",
      " 44  median_new_listing_price_yoy                  float64\n",
      " 45  median_new_listing_ppsf                       float64\n",
      " 46  median_new_listing_ppsf_yoy                   float64\n",
      " 47  inventory                                     float64\n",
      " 48  inventory_yoy                                 float64\n",
      " 49  total_active_listings                         float64\n",
      " 50  total_active_listings_yoy                     float64\n",
      " 51  active_listings                               float64\n",
      " 52  active_listings_yoy                           float64\n",
      " 53  age_of_inventory                              float64\n",
      " 54  age_of_inventory_yoy                          float64\n",
      " 55  homes_delisted                                float64\n",
      " 56  homes_delisted_yoy                            float64\n",
      " 57  percent_active_listings_delisted              float64\n",
      " 58  percent_active_listings_delisted_yoy          float64\n",
      " 59  median_active_list_price                      float64\n",
      " 60  median_active_list_price_yoy                  float64\n",
      " 61  median_active_list_ppsf                       float64\n",
      " 62  median_active_list_ppsf_yoy                   float64\n",
      " 63  average_of_median_list_price_amount           float64\n",
      " 64  average_of_median_list_price_amount_yoy       float64\n",
      " 65  average_of_median_offer_price_amount          float64\n",
      " 66  average_of_median_offer_price_amount_yoy      float64\n",
      " 67  avg_offer_to_list                             float64\n",
      " 68  avg_offer_to_list_yoy                         float64\n",
      " 69  average_sale_to_list_ratio                    float64\n",
      " 70  average_sale_to_list_ratio_yoy                float64\n",
      " 71  median_days_on_market                         float64\n",
      " 72  median_days_on_market_yoy                     float64\n",
      " 73  pending_sales_to_sales_ratio                  float64\n",
      " 74  pending_sales_to_sales_ratio_yoy              float64\n",
      " 75  months_of_supply                              float64\n",
      " 76  months_of_supply_yoy                          float64\n",
      " 77  average_pending_sales_listing_updates         float64\n",
      " 78  average_pending_sales_listing_updates_yoy     float64\n",
      " 79  percent_total_price_drops_of_inventory        float64\n",
      " 80  percent_total_price_drops_of_inventory_yoy    float64\n",
      " 81  percent_homes_sold_above_list                 float64\n",
      " 82  percent_homes_sold_above_list_yoy             float64\n",
      " 83  price_drop_percent_of_old_list_price          float64\n",
      " 84  price_drop_percent_of_old_list_price_yoy      float64\n",
      " 85  last_updated                                  object \n",
      " 86  average_adjustment_average_homes_delisted     float64\n",
      " 87  adjusted_average_homes_delisted               float64\n",
      " 88  average_adjustment_average_homes_sold         float64\n",
      " 89  adjusted_average_homes_sold                   float64\n",
      " 90  average_adjustment_average_new_listings       float64\n",
      " 91  adjusted_average_new_listings                 float64\n",
      " 92  average_adjustment_pending_sales              float64\n",
      " 93  adjusted_pending_sales                        float64\n",
      " 94  adjusted_average_homes_delisted_yoy           float64\n",
      " 95  adjusted_average_homes_sold_yoy               float64\n",
      " 96  adjusted_average_new_listings_yoy             float64\n",
      " 97  adjusted_pending_sales_yoy                    float64\n",
      "dtypes: float64(90), int64(2), object(6)\n",
      "memory usage: 1.4+ GB\n"
     ]
    }
   ],
   "source": [
    "df.info()"
   ]
  },
  {
   "cell_type": "code",
   "execution_count": 6,
   "metadata": {
    "colab": {
     "base_uri": "https://localhost:8080/"
    },
    "id": "m1Sb2XKmeEqz",
    "outputId": "02d4a108-2e10-41b7-9cc7-c82063993b6a"
   },
   "outputs": [
    {
     "data": {
      "text/html": [
       "<div>\n",
       "<style scoped>\n",
       "    .dataframe tbody tr th:only-of-type {\n",
       "        vertical-align: middle;\n",
       "    }\n",
       "\n",
       "    .dataframe tbody tr th {\n",
       "        vertical-align: top;\n",
       "    }\n",
       "\n",
       "    .dataframe thead th {\n",
       "        text-align: right;\n",
       "    }\n",
       "</style>\n",
       "<table border=\"1\" class=\"dataframe\">\n",
       "  <thead>\n",
       "    <tr style=\"text-align: right;\">\n",
       "      <th></th>\n",
       "      <th>region_id</th>\n",
       "      <th>region_type_id</th>\n",
       "      <th>total_homes_sold</th>\n",
       "      <th>total_homes_sold_yoy</th>\n",
       "      <th>average_homes_sold</th>\n",
       "      <th>average_homes_sold_yoy</th>\n",
       "      <th>total_homes_sold_with_price_drops</th>\n",
       "      <th>total_homes_sold_with_price_drops_yoy</th>\n",
       "      <th>average_homes_sold_with_price_drops</th>\n",
       "      <th>average_homes_sold_with_price_drops_yoy</th>\n",
       "      <th>...</th>\n",
       "      <th>average_adjustment_average_homes_sold</th>\n",
       "      <th>adjusted_average_homes_sold</th>\n",
       "      <th>average_adjustment_average_new_listings</th>\n",
       "      <th>adjusted_average_new_listings</th>\n",
       "      <th>average_adjustment_pending_sales</th>\n",
       "      <th>adjusted_pending_sales</th>\n",
       "      <th>adjusted_average_homes_delisted_yoy</th>\n",
       "      <th>adjusted_average_homes_sold_yoy</th>\n",
       "      <th>adjusted_average_new_listings_yoy</th>\n",
       "      <th>adjusted_pending_sales_yoy</th>\n",
       "    </tr>\n",
       "  </thead>\n",
       "  <tbody>\n",
       "    <tr>\n",
       "      <th>count</th>\n",
       "      <td>1.945431e+06</td>\n",
       "      <td>1.945431e+06</td>\n",
       "      <td>1.719107e+06</td>\n",
       "      <td>1.620482e+06</td>\n",
       "      <td>1.719107e+06</td>\n",
       "      <td>1.620482e+06</td>\n",
       "      <td>1.719107e+06</td>\n",
       "      <td>1.086698e+06</td>\n",
       "      <td>1.719107e+06</td>\n",
       "      <td>980326.000000</td>\n",
       "      <td>...</td>\n",
       "      <td>1611.000000</td>\n",
       "      <td>1.719107e+06</td>\n",
       "      <td>1616.000000</td>\n",
       "      <td>1.754157e+06</td>\n",
       "      <td>1596.000000</td>\n",
       "      <td>1.558213e+06</td>\n",
       "      <td>1.225882e+06</td>\n",
       "      <td>1.620482e+06</td>\n",
       "      <td>1.660734e+06</td>\n",
       "      <td>1.435004e+06</td>\n",
       "    </tr>\n",
       "    <tr>\n",
       "      <th>mean</th>\n",
       "      <td>8.709852e+03</td>\n",
       "      <td>3.265745e+00</td>\n",
       "      <td>5.664429e+02</td>\n",
       "      <td>4.083257e-01</td>\n",
       "      <td>1.009436e+02</td>\n",
       "      <td>2.266887e-01</td>\n",
       "      <td>1.326099e+02</td>\n",
       "      <td>3.868111e-01</td>\n",
       "      <td>2.345496e+01</td>\n",
       "      <td>0.037693</td>\n",
       "      <td>...</td>\n",
       "      <td>1.022150</td>\n",
       "      <td>1.009506e+02</td>\n",
       "      <td>1.036930</td>\n",
       "      <td>1.120767e+02</td>\n",
       "      <td>1.092702</td>\n",
       "      <td>7.727421e+01</td>\n",
       "      <td>8.268552e-02</td>\n",
       "      <td>2.267086e-01</td>\n",
       "      <td>2.119070e-01</td>\n",
       "      <td>3.623567e-01</td>\n",
       "    </tr>\n",
       "    <tr>\n",
       "      <th>std</th>\n",
       "      <td>1.352390e+04</td>\n",
       "      <td>3.021945e+00</td>\n",
       "      <td>1.182947e+04</td>\n",
       "      <td>7.337751e+00</td>\n",
       "      <td>1.632909e+03</td>\n",
       "      <td>2.330126e+00</td>\n",
       "      <td>2.764585e+03</td>\n",
       "      <td>9.061505e+00</td>\n",
       "      <td>3.812891e+02</td>\n",
       "      <td>1.463136</td>\n",
       "      <td>...</td>\n",
       "      <td>0.039244</td>\n",
       "      <td>1.633072e+03</td>\n",
       "      <td>0.098687</td>\n",
       "      <td>1.828929e+03</td>\n",
       "      <td>0.335292</td>\n",
       "      <td>1.194239e+03</td>\n",
       "      <td>1.660713e+00</td>\n",
       "      <td>2.330124e+00</td>\n",
       "      <td>1.915499e+00</td>\n",
       "      <td>2.624989e+00</td>\n",
       "    </tr>\n",
       "    <tr>\n",
       "      <th>min</th>\n",
       "      <td>-1.000000e+00</td>\n",
       "      <td>-2.000000e+00</td>\n",
       "      <td>1.000000e+00</td>\n",
       "      <td>-9.921260e-01</td>\n",
       "      <td>1.000000e+00</td>\n",
       "      <td>-9.921260e-01</td>\n",
       "      <td>0.000000e+00</td>\n",
       "      <td>-1.000000e+00</td>\n",
       "      <td>0.000000e+00</td>\n",
       "      <td>-1.000000</td>\n",
       "      <td>...</td>\n",
       "      <td>0.946970</td>\n",
       "      <td>1.000000e+00</td>\n",
       "      <td>0.787380</td>\n",
       "      <td>9.090909e-01</td>\n",
       "      <td>0.666667</td>\n",
       "      <td>9.545455e-01</td>\n",
       "      <td>-9.974160e-01</td>\n",
       "      <td>-9.921260e-01</td>\n",
       "      <td>-9.930556e-01</td>\n",
       "      <td>-9.932432e-01</td>\n",
       "    </tr>\n",
       "    <tr>\n",
       "      <th>25%</th>\n",
       "      <td>1.288000e+03</td>\n",
       "      <td>5.000000e+00</td>\n",
       "      <td>9.000000e+00</td>\n",
       "      <td>-1.000000e-01</td>\n",
       "      <td>3.000000e+00</td>\n",
       "      <td>-7.623318e-02</td>\n",
       "      <td>0.000000e+00</td>\n",
       "      <td>-3.315789e-01</td>\n",
       "      <td>0.000000e+00</td>\n",
       "      <td>-0.333333</td>\n",
       "      <td>...</td>\n",
       "      <td>1.002439</td>\n",
       "      <td>3.000000e+00</td>\n",
       "      <td>1.003284</td>\n",
       "      <td>3.000000e+00</td>\n",
       "      <td>0.999014</td>\n",
       "      <td>2.000000e+00</td>\n",
       "      <td>-3.333333e-01</td>\n",
       "      <td>-7.614213e-02</td>\n",
       "      <td>-1.034483e-01</td>\n",
       "      <td>0.000000e+00</td>\n",
       "    </tr>\n",
       "    <tr>\n",
       "      <th>50%</th>\n",
       "      <td>2.291000e+03</td>\n",
       "      <td>5.000000e+00</td>\n",
       "      <td>4.200000e+01</td>\n",
       "      <td>3.529412e-02</td>\n",
       "      <td>1.100000e+01</td>\n",
       "      <td>0.000000e+00</td>\n",
       "      <td>6.000000e+00</td>\n",
       "      <td>-4.621849e-02</td>\n",
       "      <td>2.000000e+00</td>\n",
       "      <td>0.000000</td>\n",
       "      <td>...</td>\n",
       "      <td>1.011673</td>\n",
       "      <td>1.100000e+01</td>\n",
       "      <td>1.014240</td>\n",
       "      <td>1.100000e+01</td>\n",
       "      <td>1.014894</td>\n",
       "      <td>7.000000e+00</td>\n",
       "      <td>0.000000e+00</td>\n",
       "      <td>0.000000e+00</td>\n",
       "      <td>0.000000e+00</td>\n",
       "      <td>4.032258e-02</td>\n",
       "    </tr>\n",
       "    <tr>\n",
       "      <th>75%</th>\n",
       "      <td>3.228000e+03</td>\n",
       "      <td>5.000000e+00</td>\n",
       "      <td>1.970000e+02</td>\n",
       "      <td>2.592593e-01</td>\n",
       "      <td>4.800000e+01</td>\n",
       "      <td>2.222222e-01</td>\n",
       "      <td>3.900000e+01</td>\n",
       "      <td>2.032608e-01</td>\n",
       "      <td>9.000000e+00</td>\n",
       "      <td>0.145833</td>\n",
       "      <td>...</td>\n",
       "      <td>1.029685</td>\n",
       "      <td>4.800000e+01</td>\n",
       "      <td>1.041237</td>\n",
       "      <td>5.000000e+01</td>\n",
       "      <td>1.061931</td>\n",
       "      <td>3.500000e+01</td>\n",
       "      <td>3.846154e-02</td>\n",
       "      <td>2.222222e-01</td>\n",
       "      <td>1.987478e-01</td>\n",
       "      <td>3.790850e-01</td>\n",
       "    </tr>\n",
       "    <tr>\n",
       "      <th>max</th>\n",
       "      <td>4.978000e+04</td>\n",
       "      <td>5.000000e+00</td>\n",
       "      <td>1.139566e+06</td>\n",
       "      <td>1.665000e+03</td>\n",
       "      <td>1.214900e+05</td>\n",
       "      <td>2.540000e+02</td>\n",
       "      <td>2.782560e+05</td>\n",
       "      <td>1.329000e+03</td>\n",
       "      <td>3.098700e+04</td>\n",
       "      <td>242.000000</td>\n",
       "      <td>...</td>\n",
       "      <td>1.812500</td>\n",
       "      <td>1.214900e+05</td>\n",
       "      <td>2.350144</td>\n",
       "      <td>1.155920e+05</td>\n",
       "      <td>5.590909</td>\n",
       "      <td>8.155700e+04</td>\n",
       "      <td>1.188000e+03</td>\n",
       "      <td>2.540000e+02</td>\n",
       "      <td>3.995000e+02</td>\n",
       "      <td>2.260000e+02</td>\n",
       "    </tr>\n",
       "  </tbody>\n",
       "</table>\n",
       "<p>8 rows × 92 columns</p>\n",
       "</div>"
      ],
      "text/plain": [
       "          region_id  region_type_id  total_homes_sold  total_homes_sold_yoy  \\\n",
       "count  1.945431e+06    1.945431e+06      1.719107e+06          1.620482e+06   \n",
       "mean   8.709852e+03    3.265745e+00      5.664429e+02          4.083257e-01   \n",
       "std    1.352390e+04    3.021945e+00      1.182947e+04          7.337751e+00   \n",
       "min   -1.000000e+00   -2.000000e+00      1.000000e+00         -9.921260e-01   \n",
       "25%    1.288000e+03    5.000000e+00      9.000000e+00         -1.000000e-01   \n",
       "50%    2.291000e+03    5.000000e+00      4.200000e+01          3.529412e-02   \n",
       "75%    3.228000e+03    5.000000e+00      1.970000e+02          2.592593e-01   \n",
       "max    4.978000e+04    5.000000e+00      1.139566e+06          1.665000e+03   \n",
       "\n",
       "       average_homes_sold  average_homes_sold_yoy  \\\n",
       "count        1.719107e+06            1.620482e+06   \n",
       "mean         1.009436e+02            2.266887e-01   \n",
       "std          1.632909e+03            2.330126e+00   \n",
       "min          1.000000e+00           -9.921260e-01   \n",
       "25%          3.000000e+00           -7.623318e-02   \n",
       "50%          1.100000e+01            0.000000e+00   \n",
       "75%          4.800000e+01            2.222222e-01   \n",
       "max          1.214900e+05            2.540000e+02   \n",
       "\n",
       "       total_homes_sold_with_price_drops  \\\n",
       "count                       1.719107e+06   \n",
       "mean                        1.326099e+02   \n",
       "std                         2.764585e+03   \n",
       "min                         0.000000e+00   \n",
       "25%                         0.000000e+00   \n",
       "50%                         6.000000e+00   \n",
       "75%                         3.900000e+01   \n",
       "max                         2.782560e+05   \n",
       "\n",
       "       total_homes_sold_with_price_drops_yoy  \\\n",
       "count                           1.086698e+06   \n",
       "mean                            3.868111e-01   \n",
       "std                             9.061505e+00   \n",
       "min                            -1.000000e+00   \n",
       "25%                            -3.315789e-01   \n",
       "50%                            -4.621849e-02   \n",
       "75%                             2.032608e-01   \n",
       "max                             1.329000e+03   \n",
       "\n",
       "       average_homes_sold_with_price_drops  \\\n",
       "count                         1.719107e+06   \n",
       "mean                          2.345496e+01   \n",
       "std                           3.812891e+02   \n",
       "min                           0.000000e+00   \n",
       "25%                           0.000000e+00   \n",
       "50%                           2.000000e+00   \n",
       "75%                           9.000000e+00   \n",
       "max                           3.098700e+04   \n",
       "\n",
       "       average_homes_sold_with_price_drops_yoy  ...  \\\n",
       "count                            980326.000000  ...   \n",
       "mean                                  0.037693  ...   \n",
       "std                                   1.463136  ...   \n",
       "min                                  -1.000000  ...   \n",
       "25%                                  -0.333333  ...   \n",
       "50%                                   0.000000  ...   \n",
       "75%                                   0.145833  ...   \n",
       "max                                 242.000000  ...   \n",
       "\n",
       "       average_adjustment_average_homes_sold  adjusted_average_homes_sold  \\\n",
       "count                            1611.000000                 1.719107e+06   \n",
       "mean                                1.022150                 1.009506e+02   \n",
       "std                                 0.039244                 1.633072e+03   \n",
       "min                                 0.946970                 1.000000e+00   \n",
       "25%                                 1.002439                 3.000000e+00   \n",
       "50%                                 1.011673                 1.100000e+01   \n",
       "75%                                 1.029685                 4.800000e+01   \n",
       "max                                 1.812500                 1.214900e+05   \n",
       "\n",
       "       average_adjustment_average_new_listings  adjusted_average_new_listings  \\\n",
       "count                              1616.000000                   1.754157e+06   \n",
       "mean                                  1.036930                   1.120767e+02   \n",
       "std                                   0.098687                   1.828929e+03   \n",
       "min                                   0.787380                   9.090909e-01   \n",
       "25%                                   1.003284                   3.000000e+00   \n",
       "50%                                   1.014240                   1.100000e+01   \n",
       "75%                                   1.041237                   5.000000e+01   \n",
       "max                                   2.350144                   1.155920e+05   \n",
       "\n",
       "       average_adjustment_pending_sales  adjusted_pending_sales  \\\n",
       "count                       1596.000000            1.558213e+06   \n",
       "mean                           1.092702            7.727421e+01   \n",
       "std                            0.335292            1.194239e+03   \n",
       "min                            0.666667            9.545455e-01   \n",
       "25%                            0.999014            2.000000e+00   \n",
       "50%                            1.014894            7.000000e+00   \n",
       "75%                            1.061931            3.500000e+01   \n",
       "max                            5.590909            8.155700e+04   \n",
       "\n",
       "       adjusted_average_homes_delisted_yoy  adjusted_average_homes_sold_yoy  \\\n",
       "count                         1.225882e+06                     1.620482e+06   \n",
       "mean                          8.268552e-02                     2.267086e-01   \n",
       "std                           1.660713e+00                     2.330124e+00   \n",
       "min                          -9.974160e-01                    -9.921260e-01   \n",
       "25%                          -3.333333e-01                    -7.614213e-02   \n",
       "50%                           0.000000e+00                     0.000000e+00   \n",
       "75%                           3.846154e-02                     2.222222e-01   \n",
       "max                           1.188000e+03                     2.540000e+02   \n",
       "\n",
       "       adjusted_average_new_listings_yoy  adjusted_pending_sales_yoy  \n",
       "count                       1.660734e+06                1.435004e+06  \n",
       "mean                        2.119070e-01                3.623567e-01  \n",
       "std                         1.915499e+00                2.624989e+00  \n",
       "min                        -9.930556e-01               -9.932432e-01  \n",
       "25%                        -1.034483e-01                0.000000e+00  \n",
       "50%                         0.000000e+00                4.032258e-02  \n",
       "75%                         1.987478e-01                3.790850e-01  \n",
       "max                         3.995000e+02                2.260000e+02  \n",
       "\n",
       "[8 rows x 92 columns]"
      ]
     },
     "execution_count": 6,
     "metadata": {},
     "output_type": "execute_result"
    }
   ],
   "source": [
    "df.describe()"
   ]
  },
  {
   "cell_type": "code",
   "execution_count": 7,
   "metadata": {
    "colab": {
     "base_uri": "https://localhost:8080/"
    },
    "id": "jIrlZBVpd3Wm",
    "outputId": "07a8af15-0dd8-4f81-c48a-09b34059ef0a"
   },
   "outputs": [
    {
     "data": {
      "text/plain": [
       "98"
      ]
     },
     "execution_count": 7,
     "metadata": {},
     "output_type": "execute_result"
    }
   ],
   "source": [
    "columns=df.columns\n",
    "len(columns)"
   ]
  },
  {
   "cell_type": "code",
   "execution_count": 8,
   "metadata": {
    "colab": {
     "base_uri": "https://localhost:8080/"
    },
    "id": "QhtUvxH4fjQ0",
    "outputId": "f5418a78-3e37-409a-b995-2382cc1aa5a1"
   },
   "outputs": [
    {
     "data": {
      "text/plain": [
       "region_id                                   0\n",
       "region_type_id                              0\n",
       "region_name                                 0\n",
       "region_type                                 0\n",
       "period_begin                                0\n",
       "                                        ...  \n",
       "adjusted_pending_sales                 387218\n",
       "adjusted_average_homes_delisted_yoy    719549\n",
       "adjusted_average_homes_sold_yoy        324949\n",
       "adjusted_average_new_listings_yoy      284697\n",
       "adjusted_pending_sales_yoy             510427\n",
       "Length: 98, dtype: int64"
      ]
     },
     "execution_count": 8,
     "metadata": {},
     "output_type": "execute_result"
    }
   ],
   "source": [
    "df.isna().sum()"
   ]
  },
  {
   "cell_type": "code",
   "execution_count": 9,
   "metadata": {
    "colab": {
     "base_uri": "https://localhost:8080/"
    },
    "id": "eKP4xbHupDiE",
    "outputId": "72be65d0-cfe4-4f93-da14-5dc5d7a989a1"
   },
   "outputs": [
    {
     "data": {
      "text/plain": [
       "2049     802\n",
       "26220    802\n",
       "2654     802\n",
       "607      802\n",
       "1631     802\n",
       "        ... \n",
       "2249      86\n",
       "2251      86\n",
       "2270      75\n",
       "553       47\n",
       "2717      41\n",
       "Name: region_id, Length: 2518, dtype: int64"
      ]
     },
     "execution_count": 9,
     "metadata": {},
     "output_type": "execute_result"
    }
   ],
   "source": [
    "df['region_id'].value_counts()"
   ]
  },
  {
   "cell_type": "code",
   "execution_count": 10,
   "metadata": {
    "colab": {
     "base_uri": "https://localhost:8080/"
    },
    "id": "peWhmmGXozzc",
    "outputId": "5ac3b813-1f25-4db5-ee7f-5221830dda18"
   },
   "outputs": [
    {
     "data": {
      "text/plain": [
       " 5    1463449\n",
       "-2     481982\n",
       "Name: region_type_id, dtype: int64"
      ]
     },
     "execution_count": 10,
     "metadata": {},
     "output_type": "execute_result"
    }
   ],
   "source": [
    "df['region_type_id'].value_counts()"
   ]
  },
  {
   "cell_type": "code",
   "execution_count": 11,
   "metadata": {
    "colab": {
     "base_uri": "https://localhost:8080/"
    },
    "id": "TgIZqW5nnEiD",
    "outputId": "975ffe62-f173-4489-909a-0ea577cb2251"
   },
   "outputs": [
    {
     "data": {
      "text/plain": [
       "county    1463449\n",
       "metro      481982\n",
       "Name: region_type, dtype: int64"
      ]
     },
     "execution_count": 11,
     "metadata": {},
     "output_type": "execute_result"
    }
   ],
   "source": [
    "df['region_type'].value_counts()"
   ]
  },
  {
   "cell_type": "markdown",
   "metadata": {
    "id": "RgSdF2UBoH8w"
   },
   "source": [
    "#Preprocessing"
   ]
  },
  {
   "cell_type": "markdown",
   "metadata": {
    "id": "GNqG7WVN4Qql"
   },
   "source": [
    "##**Removing columns with more than 40% null values**"
   ]
  },
  {
   "cell_type": "code",
   "execution_count": 12,
   "metadata": {
    "colab": {
     "base_uri": "https://localhost:8080/"
    },
    "id": "yvnJnCwEjbxI",
    "outputId": "ba5494df-821e-410c-a74e-0aa41a5e6d9f"
   },
   "outputs": [
    {
     "data": {
      "text/plain": [
       "region_id                              0.000000\n",
       "region_type_id                         0.000000\n",
       "region_name                            0.000000\n",
       "region_type                            0.000000\n",
       "period_begin                           0.000000\n",
       "                                         ...   \n",
       "adjusted_pending_sales                 0.199040\n",
       "adjusted_average_homes_delisted_yoy    0.369866\n",
       "adjusted_average_homes_sold_yoy        0.167032\n",
       "adjusted_average_new_listings_yoy      0.146341\n",
       "adjusted_pending_sales_yoy             0.262372\n",
       "Length: 98, dtype: float64"
      ]
     },
     "execution_count": 12,
     "metadata": {},
     "output_type": "execute_result"
    }
   ],
   "source": [
    "df.isnull().mean()"
   ]
  },
  {
   "cell_type": "code",
   "execution_count": 13,
   "metadata": {
    "colab": {
     "base_uri": "https://localhost:8080/"
    },
    "id": "VnbZM0yLwlYs",
    "outputId": "3c71f895-6496-4080-8bbc-6fc5055b54d1"
   },
   "outputs": [
    {
     "data": {
      "text/plain": [
       "Index(['total_homes_sold_with_price_drops_yoy',\n",
       "       'average_homes_sold_with_price_drops_yoy', 'price_drops_yoy',\n",
       "       'percent_active_listings_with_price_drops_yoy',\n",
       "       'off_market_in_two_weeks_yoy', 'off_market_in_one_week_yoy',\n",
       "       'average_of_median_list_price_amount',\n",
       "       'average_of_median_list_price_amount_yoy',\n",
       "       'average_of_median_offer_price_amount',\n",
       "       'average_of_median_offer_price_amount_yoy', 'avg_offer_to_list',\n",
       "       'avg_offer_to_list_yoy', 'average_pending_sales_listing_updates_yoy',\n",
       "       'percent_total_price_drops_of_inventory_yoy',\n",
       "       'price_drop_percent_of_old_list_price_yoy',\n",
       "       'average_adjustment_average_homes_delisted',\n",
       "       'average_adjustment_average_homes_sold',\n",
       "       'average_adjustment_average_new_listings',\n",
       "       'average_adjustment_pending_sales'],\n",
       "      dtype='object')"
      ]
     },
     "execution_count": 13,
     "metadata": {},
     "output_type": "execute_result"
    }
   ],
   "source": [
    "remove_columns=df.columns[df.isnull().mean()>0.4]\n",
    "remove_columns"
   ]
  },
  {
   "cell_type": "code",
   "execution_count": 14,
   "metadata": {
    "colab": {
     "base_uri": "https://localhost:8080/"
    },
    "id": "x69HjwriwqBC",
    "outputId": "1b67f84a-d692-4328-e3cb-a1918af601f6"
   },
   "outputs": [
    {
     "data": {
      "text/plain": [
       "19"
      ]
     },
     "execution_count": 14,
     "metadata": {},
     "output_type": "execute_result"
    }
   ],
   "source": [
    "len(remove_columns)"
   ]
  },
  {
   "cell_type": "code",
   "execution_count": 15,
   "metadata": {
    "colab": {
     "base_uri": "https://localhost:8080/"
    },
    "id": "ozGAAzMBxVFq",
    "outputId": "d2e8e425-b893-4834-8836-6b9a8513b147"
   },
   "outputs": [
    {
     "data": {
      "text/html": [
       "<div>\n",
       "<style scoped>\n",
       "    .dataframe tbody tr th:only-of-type {\n",
       "        vertical-align: middle;\n",
       "    }\n",
       "\n",
       "    .dataframe tbody tr th {\n",
       "        vertical-align: top;\n",
       "    }\n",
       "\n",
       "    .dataframe thead th {\n",
       "        text-align: right;\n",
       "    }\n",
       "</style>\n",
       "<table border=\"1\" class=\"dataframe\">\n",
       "  <thead>\n",
       "    <tr style=\"text-align: right;\">\n",
       "      <th></th>\n",
       "      <th>region_id</th>\n",
       "      <th>region_type_id</th>\n",
       "      <th>region_name</th>\n",
       "      <th>region_type</th>\n",
       "      <th>period_begin</th>\n",
       "      <th>period_end</th>\n",
       "      <th>duration</th>\n",
       "      <th>total_homes_sold</th>\n",
       "      <th>total_homes_sold_yoy</th>\n",
       "      <th>average_homes_sold</th>\n",
       "      <th>...</th>\n",
       "      <th>price_drop_percent_of_old_list_price</th>\n",
       "      <th>last_updated</th>\n",
       "      <th>adjusted_average_homes_delisted</th>\n",
       "      <th>adjusted_average_homes_sold</th>\n",
       "      <th>adjusted_average_new_listings</th>\n",
       "      <th>adjusted_pending_sales</th>\n",
       "      <th>adjusted_average_homes_delisted_yoy</th>\n",
       "      <th>adjusted_average_homes_sold_yoy</th>\n",
       "      <th>adjusted_average_new_listings_yoy</th>\n",
       "      <th>adjusted_pending_sales_yoy</th>\n",
       "    </tr>\n",
       "  </thead>\n",
       "  <tbody>\n",
       "    <tr>\n",
       "      <th>0</th>\n",
       "      <td>441</td>\n",
       "      <td>5</td>\n",
       "      <td>Brevard County, FL</td>\n",
       "      <td>county</td>\n",
       "      <td>2021-04-12</td>\n",
       "      <td>2021-04-18</td>\n",
       "      <td>1 weeks</td>\n",
       "      <td>334.0</td>\n",
       "      <td>0.629268</td>\n",
       "      <td>334.0</td>\n",
       "      <td>...</td>\n",
       "      <td>0.045844</td>\n",
       "      <td>2022-03-23 17:53:25</td>\n",
       "      <td>20.0</td>\n",
       "      <td>334.0</td>\n",
       "      <td>283.0</td>\n",
       "      <td>284.0</td>\n",
       "      <td>-0.512195</td>\n",
       "      <td>0.629268</td>\n",
       "      <td>0.132000</td>\n",
       "      <td>1.103704</td>\n",
       "    </tr>\n",
       "    <tr>\n",
       "      <th>1</th>\n",
       "      <td>441</td>\n",
       "      <td>5</td>\n",
       "      <td>Brevard County, FL</td>\n",
       "      <td>county</td>\n",
       "      <td>2019-03-18</td>\n",
       "      <td>2019-03-24</td>\n",
       "      <td>1 weeks</td>\n",
       "      <td>248.0</td>\n",
       "      <td>-0.057034</td>\n",
       "      <td>248.0</td>\n",
       "      <td>...</td>\n",
       "      <td>0.030491</td>\n",
       "      <td>2022-03-23 17:53:25</td>\n",
       "      <td>40.0</td>\n",
       "      <td>248.0</td>\n",
       "      <td>291.0</td>\n",
       "      <td>147.0</td>\n",
       "      <td>0.000000</td>\n",
       "      <td>-0.057034</td>\n",
       "      <td>-0.115502</td>\n",
       "      <td>-0.051613</td>\n",
       "    </tr>\n",
       "    <tr>\n",
       "      <th>2</th>\n",
       "      <td>682</td>\n",
       "      <td>5</td>\n",
       "      <td>Caribou County, ID</td>\n",
       "      <td>county</td>\n",
       "      <td>2017-03-13</td>\n",
       "      <td>2017-03-19</td>\n",
       "      <td>1 weeks</td>\n",
       "      <td>1.0</td>\n",
       "      <td>NaN</td>\n",
       "      <td>1.0</td>\n",
       "      <td>...</td>\n",
       "      <td>NaN</td>\n",
       "      <td>2022-03-23 17:53:25</td>\n",
       "      <td>NaN</td>\n",
       "      <td>1.0</td>\n",
       "      <td>NaN</td>\n",
       "      <td>NaN</td>\n",
       "      <td>NaN</td>\n",
       "      <td>NaN</td>\n",
       "      <td>NaN</td>\n",
       "      <td>NaN</td>\n",
       "    </tr>\n",
       "    <tr>\n",
       "      <th>3</th>\n",
       "      <td>155</td>\n",
       "      <td>5</td>\n",
       "      <td>Jefferson County, AL</td>\n",
       "      <td>county</td>\n",
       "      <td>2018-03-26</td>\n",
       "      <td>2018-04-01</td>\n",
       "      <td>1 weeks</td>\n",
       "      <td>283.0</td>\n",
       "      <td>0.092664</td>\n",
       "      <td>283.0</td>\n",
       "      <td>...</td>\n",
       "      <td>0.078859</td>\n",
       "      <td>2022-03-23 17:53:25</td>\n",
       "      <td>33.0</td>\n",
       "      <td>283.0</td>\n",
       "      <td>216.0</td>\n",
       "      <td>182.0</td>\n",
       "      <td>-0.352941</td>\n",
       "      <td>0.092664</td>\n",
       "      <td>-0.175573</td>\n",
       "      <td>0.300000</td>\n",
       "    </tr>\n",
       "    <tr>\n",
       "      <th>4</th>\n",
       "      <td>441</td>\n",
       "      <td>5</td>\n",
       "      <td>Brevard County, FL</td>\n",
       "      <td>county</td>\n",
       "      <td>2019-07-29</td>\n",
       "      <td>2019-08-04</td>\n",
       "      <td>1 weeks</td>\n",
       "      <td>364.0</td>\n",
       "      <td>0.120000</td>\n",
       "      <td>364.0</td>\n",
       "      <td>...</td>\n",
       "      <td>0.048337</td>\n",
       "      <td>2022-03-23 17:53:25</td>\n",
       "      <td>52.0</td>\n",
       "      <td>364.0</td>\n",
       "      <td>296.0</td>\n",
       "      <td>219.0</td>\n",
       "      <td>0.106383</td>\n",
       "      <td>0.120000</td>\n",
       "      <td>-0.175487</td>\n",
       "      <td>0.123077</td>\n",
       "    </tr>\n",
       "    <tr>\n",
       "      <th>...</th>\n",
       "      <td>...</td>\n",
       "      <td>...</td>\n",
       "      <td>...</td>\n",
       "      <td>...</td>\n",
       "      <td>...</td>\n",
       "      <td>...</td>\n",
       "      <td>...</td>\n",
       "      <td>...</td>\n",
       "      <td>...</td>\n",
       "      <td>...</td>\n",
       "      <td>...</td>\n",
       "      <td>...</td>\n",
       "      <td>...</td>\n",
       "      <td>...</td>\n",
       "      <td>...</td>\n",
       "      <td>...</td>\n",
       "      <td>...</td>\n",
       "      <td>...</td>\n",
       "      <td>...</td>\n",
       "      <td>...</td>\n",
       "      <td>...</td>\n",
       "    </tr>\n",
       "    <tr>\n",
       "      <th>1945426</th>\n",
       "      <td>33220</td>\n",
       "      <td>-2</td>\n",
       "      <td>Midland, MI metro area</td>\n",
       "      <td>metro</td>\n",
       "      <td>2018-09-03</td>\n",
       "      <td>2018-11-25</td>\n",
       "      <td>12 weeks</td>\n",
       "      <td>12.0</td>\n",
       "      <td>0.500000</td>\n",
       "      <td>1.0</td>\n",
       "      <td>...</td>\n",
       "      <td>NaN</td>\n",
       "      <td>2022-03-23 17:53:25</td>\n",
       "      <td>1.0</td>\n",
       "      <td>1.0</td>\n",
       "      <td>1.0</td>\n",
       "      <td>1.0</td>\n",
       "      <td>0.000000</td>\n",
       "      <td>0.000000</td>\n",
       "      <td>0.000000</td>\n",
       "      <td>0.000000</td>\n",
       "    </tr>\n",
       "    <tr>\n",
       "      <th>1945427</th>\n",
       "      <td>2776</td>\n",
       "      <td>5</td>\n",
       "      <td>Kleberg County, TX</td>\n",
       "      <td>county</td>\n",
       "      <td>2019-04-15</td>\n",
       "      <td>2019-07-07</td>\n",
       "      <td>12 weeks</td>\n",
       "      <td>1.0</td>\n",
       "      <td>0.000000</td>\n",
       "      <td>1.0</td>\n",
       "      <td>...</td>\n",
       "      <td>0.086410</td>\n",
       "      <td>2022-03-23 17:53:25</td>\n",
       "      <td>2.0</td>\n",
       "      <td>1.0</td>\n",
       "      <td>2.0</td>\n",
       "      <td>NaN</td>\n",
       "      <td>1.000000</td>\n",
       "      <td>0.000000</td>\n",
       "      <td>1.000000</td>\n",
       "      <td>NaN</td>\n",
       "    </tr>\n",
       "    <tr>\n",
       "      <th>1945428</th>\n",
       "      <td>2965</td>\n",
       "      <td>5</td>\n",
       "      <td>Fairfax County, VA</td>\n",
       "      <td>county</td>\n",
       "      <td>2021-02-22</td>\n",
       "      <td>2021-05-16</td>\n",
       "      <td>12 weeks</td>\n",
       "      <td>4756.0</td>\n",
       "      <td>0.314175</td>\n",
       "      <td>396.0</td>\n",
       "      <td>...</td>\n",
       "      <td>0.035488</td>\n",
       "      <td>2022-03-23 17:53:25</td>\n",
       "      <td>27.0</td>\n",
       "      <td>396.0</td>\n",
       "      <td>515.0</td>\n",
       "      <td>417.0</td>\n",
       "      <td>-0.289474</td>\n",
       "      <td>0.315615</td>\n",
       "      <td>0.344648</td>\n",
       "      <td>0.533088</td>\n",
       "    </tr>\n",
       "    <tr>\n",
       "      <th>1945429</th>\n",
       "      <td>2776</td>\n",
       "      <td>5</td>\n",
       "      <td>Kleberg County, TX</td>\n",
       "      <td>county</td>\n",
       "      <td>2021-12-20</td>\n",
       "      <td>2022-03-13</td>\n",
       "      <td>12 weeks</td>\n",
       "      <td>NaN</td>\n",
       "      <td>NaN</td>\n",
       "      <td>NaN</td>\n",
       "      <td>...</td>\n",
       "      <td>0.054707</td>\n",
       "      <td>2022-03-23 17:53:25</td>\n",
       "      <td>3.0</td>\n",
       "      <td>NaN</td>\n",
       "      <td>4.0</td>\n",
       "      <td>2.0</td>\n",
       "      <td>-0.400000</td>\n",
       "      <td>NaN</td>\n",
       "      <td>0.000000</td>\n",
       "      <td>NaN</td>\n",
       "    </tr>\n",
       "    <tr>\n",
       "      <th>1945430</th>\n",
       "      <td>33700</td>\n",
       "      <td>-2</td>\n",
       "      <td>Modesto, CA metro area</td>\n",
       "      <td>metro</td>\n",
       "      <td>2020-09-14</td>\n",
       "      <td>2020-12-06</td>\n",
       "      <td>12 weeks</td>\n",
       "      <td>1479.0</td>\n",
       "      <td>0.089102</td>\n",
       "      <td>123.0</td>\n",
       "      <td>...</td>\n",
       "      <td>0.037436</td>\n",
       "      <td>2022-03-23 17:53:25</td>\n",
       "      <td>55.0</td>\n",
       "      <td>123.0</td>\n",
       "      <td>161.0</td>\n",
       "      <td>100.0</td>\n",
       "      <td>1.619048</td>\n",
       "      <td>0.088496</td>\n",
       "      <td>0.504673</td>\n",
       "      <td>0.149425</td>\n",
       "    </tr>\n",
       "  </tbody>\n",
       "</table>\n",
       "<p>1945431 rows × 79 columns</p>\n",
       "</div>"
      ],
      "text/plain": [
       "         region_id  region_type_id             region_name region_type  \\\n",
       "0              441               5      Brevard County, FL      county   \n",
       "1              441               5      Brevard County, FL      county   \n",
       "2              682               5      Caribou County, ID      county   \n",
       "3              155               5    Jefferson County, AL      county   \n",
       "4              441               5      Brevard County, FL      county   \n",
       "...            ...             ...                     ...         ...   \n",
       "1945426      33220              -2  Midland, MI metro area       metro   \n",
       "1945427       2776               5      Kleberg County, TX      county   \n",
       "1945428       2965               5      Fairfax County, VA      county   \n",
       "1945429       2776               5      Kleberg County, TX      county   \n",
       "1945430      33700              -2  Modesto, CA metro area       metro   \n",
       "\n",
       "        period_begin  period_end  duration  total_homes_sold  \\\n",
       "0         2021-04-12  2021-04-18   1 weeks             334.0   \n",
       "1         2019-03-18  2019-03-24   1 weeks             248.0   \n",
       "2         2017-03-13  2017-03-19   1 weeks               1.0   \n",
       "3         2018-03-26  2018-04-01   1 weeks             283.0   \n",
       "4         2019-07-29  2019-08-04   1 weeks             364.0   \n",
       "...              ...         ...       ...               ...   \n",
       "1945426   2018-09-03  2018-11-25  12 weeks              12.0   \n",
       "1945427   2019-04-15  2019-07-07  12 weeks               1.0   \n",
       "1945428   2021-02-22  2021-05-16  12 weeks            4756.0   \n",
       "1945429   2021-12-20  2022-03-13  12 weeks               NaN   \n",
       "1945430   2020-09-14  2020-12-06  12 weeks            1479.0   \n",
       "\n",
       "         total_homes_sold_yoy  average_homes_sold  ...  \\\n",
       "0                    0.629268               334.0  ...   \n",
       "1                   -0.057034               248.0  ...   \n",
       "2                         NaN                 1.0  ...   \n",
       "3                    0.092664               283.0  ...   \n",
       "4                    0.120000               364.0  ...   \n",
       "...                       ...                 ...  ...   \n",
       "1945426              0.500000                 1.0  ...   \n",
       "1945427              0.000000                 1.0  ...   \n",
       "1945428              0.314175               396.0  ...   \n",
       "1945429                   NaN                 NaN  ...   \n",
       "1945430              0.089102               123.0  ...   \n",
       "\n",
       "         price_drop_percent_of_old_list_price         last_updated  \\\n",
       "0                                    0.045844  2022-03-23 17:53:25   \n",
       "1                                    0.030491  2022-03-23 17:53:25   \n",
       "2                                         NaN  2022-03-23 17:53:25   \n",
       "3                                    0.078859  2022-03-23 17:53:25   \n",
       "4                                    0.048337  2022-03-23 17:53:25   \n",
       "...                                       ...                  ...   \n",
       "1945426                                   NaN  2022-03-23 17:53:25   \n",
       "1945427                              0.086410  2022-03-23 17:53:25   \n",
       "1945428                              0.035488  2022-03-23 17:53:25   \n",
       "1945429                              0.054707  2022-03-23 17:53:25   \n",
       "1945430                              0.037436  2022-03-23 17:53:25   \n",
       "\n",
       "         adjusted_average_homes_delisted  adjusted_average_homes_sold  \\\n",
       "0                                   20.0                        334.0   \n",
       "1                                   40.0                        248.0   \n",
       "2                                    NaN                          1.0   \n",
       "3                                   33.0                        283.0   \n",
       "4                                   52.0                        364.0   \n",
       "...                                  ...                          ...   \n",
       "1945426                              1.0                          1.0   \n",
       "1945427                              2.0                          1.0   \n",
       "1945428                             27.0                        396.0   \n",
       "1945429                              3.0                          NaN   \n",
       "1945430                             55.0                        123.0   \n",
       "\n",
       "         adjusted_average_new_listings  adjusted_pending_sales  \\\n",
       "0                                283.0                   284.0   \n",
       "1                                291.0                   147.0   \n",
       "2                                  NaN                     NaN   \n",
       "3                                216.0                   182.0   \n",
       "4                                296.0                   219.0   \n",
       "...                                ...                     ...   \n",
       "1945426                            1.0                     1.0   \n",
       "1945427                            2.0                     NaN   \n",
       "1945428                          515.0                   417.0   \n",
       "1945429                            4.0                     2.0   \n",
       "1945430                          161.0                   100.0   \n",
       "\n",
       "         adjusted_average_homes_delisted_yoy  adjusted_average_homes_sold_yoy  \\\n",
       "0                                  -0.512195                         0.629268   \n",
       "1                                   0.000000                        -0.057034   \n",
       "2                                        NaN                              NaN   \n",
       "3                                  -0.352941                         0.092664   \n",
       "4                                   0.106383                         0.120000   \n",
       "...                                      ...                              ...   \n",
       "1945426                             0.000000                         0.000000   \n",
       "1945427                             1.000000                         0.000000   \n",
       "1945428                            -0.289474                         0.315615   \n",
       "1945429                            -0.400000                              NaN   \n",
       "1945430                             1.619048                         0.088496   \n",
       "\n",
       "         adjusted_average_new_listings_yoy  adjusted_pending_sales_yoy  \n",
       "0                                 0.132000                    1.103704  \n",
       "1                                -0.115502                   -0.051613  \n",
       "2                                      NaN                         NaN  \n",
       "3                                -0.175573                    0.300000  \n",
       "4                                -0.175487                    0.123077  \n",
       "...                                    ...                         ...  \n",
       "1945426                           0.000000                    0.000000  \n",
       "1945427                           1.000000                         NaN  \n",
       "1945428                           0.344648                    0.533088  \n",
       "1945429                           0.000000                         NaN  \n",
       "1945430                           0.504673                    0.149425  \n",
       "\n",
       "[1945431 rows x 79 columns]"
      ]
     },
     "execution_count": 15,
     "metadata": {},
     "output_type": "execute_result"
    }
   ],
   "source": [
    "df1=df.drop(remove_columns,axis=1)\n",
    "df1"
   ]
  },
  {
   "cell_type": "markdown",
   "metadata": {
    "id": "x-mxR1704cJv"
   },
   "source": [
    "##**Filtering out columns**"
   ]
  },
  {
   "cell_type": "code",
   "execution_count": 16,
   "metadata": {
    "colab": {
     "base_uri": "https://localhost:8080/"
    },
    "id": "y3L03DV5qOKi",
    "outputId": "32267e41-8e8a-4459-f2da-10228fb06557"
   },
   "outputs": [
    {
     "data": {
      "text/plain": [
       "Index(['region_id', 'region_type_id', 'region_name', 'region_type',\n",
       "       'period_begin', 'period_end', 'duration', 'total_homes_sold',\n",
       "       'total_homes_sold_yoy', 'average_homes_sold', 'average_homes_sold_yoy',\n",
       "       'total_homes_sold_with_price_drops',\n",
       "       'average_homes_sold_with_price_drops',\n",
       "       'percent_homes_sold_with_price_drops',\n",
       "       'percent_homes_sold_with_price_drops_yoy', 'median_sale_price',\n",
       "       'median_sale_price_yoy', 'median_sale_ppsf', 'median_sale_ppsf_yoy',\n",
       "       'median_days_to_close', 'median_days_to_close_yoy', 'price_drops',\n",
       "       'percent_active_listings_with_price_drops', 'pending_sales',\n",
       "       'pending_sales_yoy', 'median_pending_sqft', 'median_pending_sqft_yoy',\n",
       "       'off_market_in_two_weeks', 'off_market_in_one_week',\n",
       "       'percent_off_market_in_two_weeks',\n",
       "       'percent_off_market_in_two_weeks_yoy', 'percent_off_market_in_one_week',\n",
       "       'percent_off_market_in_one_week_yoy', 'total_new_listings',\n",
       "       'total_new_listings_yoy', 'average_new_listings',\n",
       "       'average_new_listings_yoy', 'median_new_listing_price',\n",
       "       'median_new_listing_price_yoy', 'median_new_listing_ppsf',\n",
       "       'median_new_listing_ppsf_yoy', 'inventory', 'inventory_yoy',\n",
       "       'total_active_listings', 'total_active_listings_yoy', 'active_listings',\n",
       "       'active_listings_yoy', 'age_of_inventory', 'age_of_inventory_yoy',\n",
       "       'homes_delisted', 'homes_delisted_yoy',\n",
       "       'percent_active_listings_delisted',\n",
       "       'percent_active_listings_delisted_yoy', 'median_active_list_price',\n",
       "       'median_active_list_price_yoy', 'median_active_list_ppsf',\n",
       "       'median_active_list_ppsf_yoy', 'average_sale_to_list_ratio',\n",
       "       'average_sale_to_list_ratio_yoy', 'median_days_on_market',\n",
       "       'median_days_on_market_yoy', 'pending_sales_to_sales_ratio',\n",
       "       'pending_sales_to_sales_ratio_yoy', 'months_of_supply',\n",
       "       'months_of_supply_yoy', 'average_pending_sales_listing_updates',\n",
       "       'percent_total_price_drops_of_inventory',\n",
       "       'percent_homes_sold_above_list', 'percent_homes_sold_above_list_yoy',\n",
       "       'price_drop_percent_of_old_list_price', 'last_updated',\n",
       "       'adjusted_average_homes_delisted', 'adjusted_average_homes_sold',\n",
       "       'adjusted_average_new_listings', 'adjusted_pending_sales',\n",
       "       'adjusted_average_homes_delisted_yoy',\n",
       "       'adjusted_average_homes_sold_yoy', 'adjusted_average_new_listings_yoy',\n",
       "       'adjusted_pending_sales_yoy'],\n",
       "      dtype='object')"
      ]
     },
     "execution_count": 16,
     "metadata": {},
     "output_type": "execute_result"
    }
   ],
   "source": [
    "df1.columns"
   ]
  },
  {
   "cell_type": "code",
   "execution_count": 17,
   "metadata": {
    "id": "NPNzc1wJqDC8"
   },
   "outputs": [],
   "source": [
    "filtered_columns=['region_name', 'region_type','period_begin', 'period_end','duration',\n",
    "       'average_homes_sold', 'average_homes_sold_yoy',\n",
    "       'percent_homes_sold_with_price_drops','percent_homes_sold_with_price_drops_yoy', \n",
    "       'median_sale_price','median_sale_price_yoy',\n",
    "       'median_sale_ppsf', 'median_sale_ppsf_yoy',\n",
    "       'median_days_to_close', 'median_days_to_close_yoy',\n",
    "       'price_drops',\n",
    "       'pending_sales', 'pending_sales_yoy',\n",
    "       'median_pending_sqft', 'median_pending_sqft_yoy',\n",
    "       'average_new_listings','average_new_listings_yoy', \n",
    "       'median_new_listing_price','median_new_listing_price_yoy',\n",
    "       'median_new_listing_ppsf', 'median_new_listing_ppsf_yoy',\n",
    "       'inventory', 'inventory_yoy',\n",
    "       'active_listings','active_listings_yoy',\n",
    "       'age_of_inventory', 'age_of_inventory_yoy',\n",
    "       'median_active_list_price', 'median_active_list_price_yoy',\n",
    "       'median_active_list_ppsf', 'median_active_list_ppsf_yoy',\n",
    "       'average_sale_to_list_ratio', 'average_sale_to_list_ratio_yoy',\n",
    "       'median_days_on_market', 'median_days_on_market_yoy',\n",
    "       'pending_sales_to_sales_ratio', 'pending_sales_to_sales_ratio_yoy']"
   ]
  },
  {
   "cell_type": "code",
   "execution_count": 18,
   "metadata": {
    "colab": {
     "base_uri": "https://localhost:8080/"
    },
    "id": "yqDn_u0Zr6EI",
    "outputId": "710cf742-7cb8-4c6e-97ff-8453be787706"
   },
   "outputs": [
    {
     "data": {
      "text/html": [
       "<div>\n",
       "<style scoped>\n",
       "    .dataframe tbody tr th:only-of-type {\n",
       "        vertical-align: middle;\n",
       "    }\n",
       "\n",
       "    .dataframe tbody tr th {\n",
       "        vertical-align: top;\n",
       "    }\n",
       "\n",
       "    .dataframe thead th {\n",
       "        text-align: right;\n",
       "    }\n",
       "</style>\n",
       "<table border=\"1\" class=\"dataframe\">\n",
       "  <thead>\n",
       "    <tr style=\"text-align: right;\">\n",
       "      <th></th>\n",
       "      <th>region_name</th>\n",
       "      <th>region_type</th>\n",
       "      <th>period_begin</th>\n",
       "      <th>period_end</th>\n",
       "      <th>duration</th>\n",
       "      <th>average_homes_sold</th>\n",
       "      <th>average_homes_sold_yoy</th>\n",
       "      <th>percent_homes_sold_with_price_drops</th>\n",
       "      <th>percent_homes_sold_with_price_drops_yoy</th>\n",
       "      <th>median_sale_price</th>\n",
       "      <th>...</th>\n",
       "      <th>median_active_list_price</th>\n",
       "      <th>median_active_list_price_yoy</th>\n",
       "      <th>median_active_list_ppsf</th>\n",
       "      <th>median_active_list_ppsf_yoy</th>\n",
       "      <th>average_sale_to_list_ratio</th>\n",
       "      <th>average_sale_to_list_ratio_yoy</th>\n",
       "      <th>median_days_on_market</th>\n",
       "      <th>median_days_on_market_yoy</th>\n",
       "      <th>pending_sales_to_sales_ratio</th>\n",
       "      <th>pending_sales_to_sales_ratio_yoy</th>\n",
       "    </tr>\n",
       "  </thead>\n",
       "  <tbody>\n",
       "    <tr>\n",
       "      <th>0</th>\n",
       "      <td>Brevard County, FL</td>\n",
       "      <td>county</td>\n",
       "      <td>2021-04-12</td>\n",
       "      <td>2021-04-18</td>\n",
       "      <td>1 weeks</td>\n",
       "      <td>334.0</td>\n",
       "      <td>0.629268</td>\n",
       "      <td>0.197605</td>\n",
       "      <td>-0.056054</td>\n",
       "      <td>285000.0</td>\n",
       "      <td>...</td>\n",
       "      <td>299900.0</td>\n",
       "      <td>0.090545</td>\n",
       "      <td>174.937500</td>\n",
       "      <td>0.138018</td>\n",
       "      <td>0.991684</td>\n",
       "      <td>0.016480</td>\n",
       "      <td>47.0</td>\n",
       "      <td>-20.0</td>\n",
       "      <td>0.850299</td>\n",
       "      <td>0.191763</td>\n",
       "    </tr>\n",
       "    <tr>\n",
       "      <th>1</th>\n",
       "      <td>Brevard County, FL</td>\n",
       "      <td>county</td>\n",
       "      <td>2019-03-18</td>\n",
       "      <td>2019-03-24</td>\n",
       "      <td>1 weeks</td>\n",
       "      <td>248.0</td>\n",
       "      <td>-0.057034</td>\n",
       "      <td>0.000000</td>\n",
       "      <td>-0.003802</td>\n",
       "      <td>213495.0</td>\n",
       "      <td>...</td>\n",
       "      <td>259000.0</td>\n",
       "      <td>0.016683</td>\n",
       "      <td>146.544151</td>\n",
       "      <td>0.022145</td>\n",
       "      <td>0.964308</td>\n",
       "      <td>-0.005071</td>\n",
       "      <td>74.0</td>\n",
       "      <td>3.0</td>\n",
       "      <td>0.592742</td>\n",
       "      <td>0.003388</td>\n",
       "    </tr>\n",
       "    <tr>\n",
       "      <th>2</th>\n",
       "      <td>Caribou County, ID</td>\n",
       "      <td>county</td>\n",
       "      <td>2017-03-13</td>\n",
       "      <td>2017-03-19</td>\n",
       "      <td>1 weeks</td>\n",
       "      <td>1.0</td>\n",
       "      <td>NaN</td>\n",
       "      <td>0.000000</td>\n",
       "      <td>NaN</td>\n",
       "      <td>49000.0</td>\n",
       "      <td>...</td>\n",
       "      <td>98000.0</td>\n",
       "      <td>-0.367742</td>\n",
       "      <td>48.826597</td>\n",
       "      <td>-0.194834</td>\n",
       "      <td>0.928030</td>\n",
       "      <td>NaN</td>\n",
       "      <td>101.0</td>\n",
       "      <td>NaN</td>\n",
       "      <td>NaN</td>\n",
       "      <td>NaN</td>\n",
       "    </tr>\n",
       "    <tr>\n",
       "      <th>3</th>\n",
       "      <td>Jefferson County, AL</td>\n",
       "      <td>county</td>\n",
       "      <td>2018-03-26</td>\n",
       "      <td>2018-04-01</td>\n",
       "      <td>1 weeks</td>\n",
       "      <td>283.0</td>\n",
       "      <td>0.092664</td>\n",
       "      <td>0.293286</td>\n",
       "      <td>0.038460</td>\n",
       "      <td>184900.0</td>\n",
       "      <td>...</td>\n",
       "      <td>199650.0</td>\n",
       "      <td>0.024371</td>\n",
       "      <td>100.677201</td>\n",
       "      <td>0.030044</td>\n",
       "      <td>0.979358</td>\n",
       "      <td>0.002847</td>\n",
       "      <td>59.0</td>\n",
       "      <td>-4.0</td>\n",
       "      <td>0.643110</td>\n",
       "      <td>0.102569</td>\n",
       "    </tr>\n",
       "    <tr>\n",
       "      <th>4</th>\n",
       "      <td>Brevard County, FL</td>\n",
       "      <td>county</td>\n",
       "      <td>2019-07-29</td>\n",
       "      <td>2019-08-04</td>\n",
       "      <td>1 weeks</td>\n",
       "      <td>364.0</td>\n",
       "      <td>0.120000</td>\n",
       "      <td>0.005495</td>\n",
       "      <td>-0.000659</td>\n",
       "      <td>235000.0</td>\n",
       "      <td>...</td>\n",
       "      <td>259900.0</td>\n",
       "      <td>0.000000</td>\n",
       "      <td>147.024108</td>\n",
       "      <td>0.019294</td>\n",
       "      <td>0.974330</td>\n",
       "      <td>0.003170</td>\n",
       "      <td>68.5</td>\n",
       "      <td>1.5</td>\n",
       "      <td>0.601648</td>\n",
       "      <td>0.001648</td>\n",
       "    </tr>\n",
       "    <tr>\n",
       "      <th>...</th>\n",
       "      <td>...</td>\n",
       "      <td>...</td>\n",
       "      <td>...</td>\n",
       "      <td>...</td>\n",
       "      <td>...</td>\n",
       "      <td>...</td>\n",
       "      <td>...</td>\n",
       "      <td>...</td>\n",
       "      <td>...</td>\n",
       "      <td>...</td>\n",
       "      <td>...</td>\n",
       "      <td>...</td>\n",
       "      <td>...</td>\n",
       "      <td>...</td>\n",
       "      <td>...</td>\n",
       "      <td>...</td>\n",
       "      <td>...</td>\n",
       "      <td>...</td>\n",
       "      <td>...</td>\n",
       "      <td>...</td>\n",
       "      <td>...</td>\n",
       "    </tr>\n",
       "    <tr>\n",
       "      <th>1945426</th>\n",
       "      <td>Midland, MI metro area</td>\n",
       "      <td>metro</td>\n",
       "      <td>2018-09-03</td>\n",
       "      <td>2018-11-25</td>\n",
       "      <td>12 weeks</td>\n",
       "      <td>1.0</td>\n",
       "      <td>0.000000</td>\n",
       "      <td>0.000000</td>\n",
       "      <td>0.000000</td>\n",
       "      <td>175633.3</td>\n",
       "      <td>...</td>\n",
       "      <td>128366.6</td>\n",
       "      <td>0.036730</td>\n",
       "      <td>92.730698</td>\n",
       "      <td>0.025507</td>\n",
       "      <td>0.945894</td>\n",
       "      <td>-0.048231</td>\n",
       "      <td>87.8</td>\n",
       "      <td>29.1</td>\n",
       "      <td>0.900000</td>\n",
       "      <td>-0.033333</td>\n",
       "    </tr>\n",
       "    <tr>\n",
       "      <th>1945427</th>\n",
       "      <td>Kleberg County, TX</td>\n",
       "      <td>county</td>\n",
       "      <td>2019-04-15</td>\n",
       "      <td>2019-07-07</td>\n",
       "      <td>12 weeks</td>\n",
       "      <td>1.0</td>\n",
       "      <td>0.000000</td>\n",
       "      <td>0.000000</td>\n",
       "      <td>-1.000000</td>\n",
       "      <td>540000.0</td>\n",
       "      <td>...</td>\n",
       "      <td>145658.3</td>\n",
       "      <td>-0.072855</td>\n",
       "      <td>83.935043</td>\n",
       "      <td>-0.017926</td>\n",
       "      <td>0.939130</td>\n",
       "      <td>-0.060870</td>\n",
       "      <td>262.0</td>\n",
       "      <td>182.0</td>\n",
       "      <td>NaN</td>\n",
       "      <td>NaN</td>\n",
       "    </tr>\n",
       "    <tr>\n",
       "      <th>1945428</th>\n",
       "      <td>Fairfax County, VA</td>\n",
       "      <td>county</td>\n",
       "      <td>2021-02-22</td>\n",
       "      <td>2021-05-16</td>\n",
       "      <td>12 weeks</td>\n",
       "      <td>396.0</td>\n",
       "      <td>0.315615</td>\n",
       "      <td>0.098868</td>\n",
       "      <td>-0.008139</td>\n",
       "      <td>619688.1</td>\n",
       "      <td>...</td>\n",
       "      <td>607431.0</td>\n",
       "      <td>-0.109212</td>\n",
       "      <td>306.990291</td>\n",
       "      <td>0.102327</td>\n",
       "      <td>1.026390</td>\n",
       "      <td>0.020657</td>\n",
       "      <td>9.9</td>\n",
       "      <td>-5.2</td>\n",
       "      <td>1.070485</td>\n",
       "      <td>0.131898</td>\n",
       "    </tr>\n",
       "    <tr>\n",
       "      <th>1945429</th>\n",
       "      <td>Kleberg County, TX</td>\n",
       "      <td>county</td>\n",
       "      <td>2021-12-20</td>\n",
       "      <td>2022-03-13</td>\n",
       "      <td>12 weeks</td>\n",
       "      <td>NaN</td>\n",
       "      <td>NaN</td>\n",
       "      <td>NaN</td>\n",
       "      <td>NaN</td>\n",
       "      <td>NaN</td>\n",
       "      <td>...</td>\n",
       "      <td>195079.1</td>\n",
       "      <td>0.117025</td>\n",
       "      <td>114.351452</td>\n",
       "      <td>0.115456</td>\n",
       "      <td>NaN</td>\n",
       "      <td>NaN</td>\n",
       "      <td>NaN</td>\n",
       "      <td>NaN</td>\n",
       "      <td>NaN</td>\n",
       "      <td>NaN</td>\n",
       "    </tr>\n",
       "    <tr>\n",
       "      <th>1945430</th>\n",
       "      <td>Modesto, CA metro area</td>\n",
       "      <td>metro</td>\n",
       "      <td>2020-09-14</td>\n",
       "      <td>2020-12-06</td>\n",
       "      <td>12 weeks</td>\n",
       "      <td>123.0</td>\n",
       "      <td>0.088496</td>\n",
       "      <td>0.132700</td>\n",
       "      <td>-0.176733</td>\n",
       "      <td>375166.6</td>\n",
       "      <td>...</td>\n",
       "      <td>408040.6</td>\n",
       "      <td>0.125759</td>\n",
       "      <td>230.803647</td>\n",
       "      <td>0.123498</td>\n",
       "      <td>1.007299</td>\n",
       "      <td>0.017049</td>\n",
       "      <td>7.9</td>\n",
       "      <td>-14.3</td>\n",
       "      <td>0.813186</td>\n",
       "      <td>0.029655</td>\n",
       "    </tr>\n",
       "  </tbody>\n",
       "</table>\n",
       "<p>1945431 rows × 42 columns</p>\n",
       "</div>"
      ],
      "text/plain": [
       "                    region_name region_type period_begin  period_end  \\\n",
       "0            Brevard County, FL      county   2021-04-12  2021-04-18   \n",
       "1            Brevard County, FL      county   2019-03-18  2019-03-24   \n",
       "2            Caribou County, ID      county   2017-03-13  2017-03-19   \n",
       "3          Jefferson County, AL      county   2018-03-26  2018-04-01   \n",
       "4            Brevard County, FL      county   2019-07-29  2019-08-04   \n",
       "...                         ...         ...          ...         ...   \n",
       "1945426  Midland, MI metro area       metro   2018-09-03  2018-11-25   \n",
       "1945427      Kleberg County, TX      county   2019-04-15  2019-07-07   \n",
       "1945428      Fairfax County, VA      county   2021-02-22  2021-05-16   \n",
       "1945429      Kleberg County, TX      county   2021-12-20  2022-03-13   \n",
       "1945430  Modesto, CA metro area       metro   2020-09-14  2020-12-06   \n",
       "\n",
       "         duration  average_homes_sold  average_homes_sold_yoy  \\\n",
       "0         1 weeks               334.0                0.629268   \n",
       "1         1 weeks               248.0               -0.057034   \n",
       "2         1 weeks                 1.0                     NaN   \n",
       "3         1 weeks               283.0                0.092664   \n",
       "4         1 weeks               364.0                0.120000   \n",
       "...           ...                 ...                     ...   \n",
       "1945426  12 weeks                 1.0                0.000000   \n",
       "1945427  12 weeks                 1.0                0.000000   \n",
       "1945428  12 weeks               396.0                0.315615   \n",
       "1945429  12 weeks                 NaN                     NaN   \n",
       "1945430  12 weeks               123.0                0.088496   \n",
       "\n",
       "         percent_homes_sold_with_price_drops  \\\n",
       "0                                   0.197605   \n",
       "1                                   0.000000   \n",
       "2                                   0.000000   \n",
       "3                                   0.293286   \n",
       "4                                   0.005495   \n",
       "...                                      ...   \n",
       "1945426                             0.000000   \n",
       "1945427                             0.000000   \n",
       "1945428                             0.098868   \n",
       "1945429                                  NaN   \n",
       "1945430                             0.132700   \n",
       "\n",
       "         percent_homes_sold_with_price_drops_yoy  median_sale_price  ...  \\\n",
       "0                                      -0.056054           285000.0  ...   \n",
       "1                                      -0.003802           213495.0  ...   \n",
       "2                                            NaN            49000.0  ...   \n",
       "3                                       0.038460           184900.0  ...   \n",
       "4                                      -0.000659           235000.0  ...   \n",
       "...                                          ...                ...  ...   \n",
       "1945426                                 0.000000           175633.3  ...   \n",
       "1945427                                -1.000000           540000.0  ...   \n",
       "1945428                                -0.008139           619688.1  ...   \n",
       "1945429                                      NaN                NaN  ...   \n",
       "1945430                                -0.176733           375166.6  ...   \n",
       "\n",
       "         median_active_list_price  median_active_list_price_yoy  \\\n",
       "0                        299900.0                      0.090545   \n",
       "1                        259000.0                      0.016683   \n",
       "2                         98000.0                     -0.367742   \n",
       "3                        199650.0                      0.024371   \n",
       "4                        259900.0                      0.000000   \n",
       "...                           ...                           ...   \n",
       "1945426                  128366.6                      0.036730   \n",
       "1945427                  145658.3                     -0.072855   \n",
       "1945428                  607431.0                     -0.109212   \n",
       "1945429                  195079.1                      0.117025   \n",
       "1945430                  408040.6                      0.125759   \n",
       "\n",
       "         median_active_list_ppsf  median_active_list_ppsf_yoy  \\\n",
       "0                     174.937500                     0.138018   \n",
       "1                     146.544151                     0.022145   \n",
       "2                      48.826597                    -0.194834   \n",
       "3                     100.677201                     0.030044   \n",
       "4                     147.024108                     0.019294   \n",
       "...                          ...                          ...   \n",
       "1945426                92.730698                     0.025507   \n",
       "1945427                83.935043                    -0.017926   \n",
       "1945428               306.990291                     0.102327   \n",
       "1945429               114.351452                     0.115456   \n",
       "1945430               230.803647                     0.123498   \n",
       "\n",
       "         average_sale_to_list_ratio  average_sale_to_list_ratio_yoy  \\\n",
       "0                          0.991684                        0.016480   \n",
       "1                          0.964308                       -0.005071   \n",
       "2                          0.928030                             NaN   \n",
       "3                          0.979358                        0.002847   \n",
       "4                          0.974330                        0.003170   \n",
       "...                             ...                             ...   \n",
       "1945426                    0.945894                       -0.048231   \n",
       "1945427                    0.939130                       -0.060870   \n",
       "1945428                    1.026390                        0.020657   \n",
       "1945429                         NaN                             NaN   \n",
       "1945430                    1.007299                        0.017049   \n",
       "\n",
       "         median_days_on_market  median_days_on_market_yoy  \\\n",
       "0                         47.0                      -20.0   \n",
       "1                         74.0                        3.0   \n",
       "2                        101.0                        NaN   \n",
       "3                         59.0                       -4.0   \n",
       "4                         68.5                        1.5   \n",
       "...                        ...                        ...   \n",
       "1945426                   87.8                       29.1   \n",
       "1945427                  262.0                      182.0   \n",
       "1945428                    9.9                       -5.2   \n",
       "1945429                    NaN                        NaN   \n",
       "1945430                    7.9                      -14.3   \n",
       "\n",
       "         pending_sales_to_sales_ratio  pending_sales_to_sales_ratio_yoy  \n",
       "0                            0.850299                          0.191763  \n",
       "1                            0.592742                          0.003388  \n",
       "2                                 NaN                               NaN  \n",
       "3                            0.643110                          0.102569  \n",
       "4                            0.601648                          0.001648  \n",
       "...                               ...                               ...  \n",
       "1945426                      0.900000                         -0.033333  \n",
       "1945427                           NaN                               NaN  \n",
       "1945428                      1.070485                          0.131898  \n",
       "1945429                           NaN                               NaN  \n",
       "1945430                      0.813186                          0.029655  \n",
       "\n",
       "[1945431 rows x 42 columns]"
      ]
     },
     "execution_count": 18,
     "metadata": {},
     "output_type": "execute_result"
    }
   ],
   "source": [
    "df1=df1[filtered_columns]\n",
    "df1"
   ]
  },
  {
   "cell_type": "code",
   "execution_count": 19,
   "metadata": {
    "colab": {
     "base_uri": "https://localhost:8080/"
    },
    "id": "NIhx0HDNsHzc",
    "outputId": "b99e22e2-78f9-489a-e3aa-8971ff3b38a9"
   },
   "outputs": [
    {
     "data": {
      "text/plain": [
       "42"
      ]
     },
     "execution_count": 19,
     "metadata": {},
     "output_type": "execute_result"
    }
   ],
   "source": [
    "len(df1.columns)"
   ]
  },
  {
   "cell_type": "markdown",
   "metadata": {
    "id": "Sn-yl2kpt35n"
   },
   "source": [
    "##**Splitting month and year**"
   ]
  },
  {
   "cell_type": "code",
   "execution_count": 20,
   "metadata": {
    "colab": {
     "base_uri": "https://localhost:8080/"
    },
    "id": "9GhiYpJwt3R_",
    "outputId": "a1d059f0-b9e4-44c1-f25f-a5df876a28d9"
   },
   "outputs": [
    {
     "name": "stderr",
     "output_type": "stream",
     "text": [
      "<ipython-input-20-9b1c242522fc>:1: SettingWithCopyWarning: \n",
      "A value is trying to be set on a copy of a slice from a DataFrame.\n",
      "Try using .loc[row_indexer,col_indexer] = value instead\n",
      "\n",
      "See the caveats in the documentation: https://pandas.pydata.org/pandas-docs/stable/user_guide/indexing.html#returning-a-view-versus-a-copy\n",
      "  df1[\"year\"]=[x.split('-')[0] for x in df1[\"period_begin\"]]\n"
     ]
    },
    {
     "data": {
      "text/plain": [
       "0          2021\n",
       "1          2019\n",
       "2          2017\n",
       "3          2018\n",
       "4          2019\n",
       "           ... \n",
       "1945426    2018\n",
       "1945427    2019\n",
       "1945428    2021\n",
       "1945429    2021\n",
       "1945430    2020\n",
       "Name: year, Length: 1945431, dtype: object"
      ]
     },
     "execution_count": 20,
     "metadata": {},
     "output_type": "execute_result"
    }
   ],
   "source": [
    "df1[\"year\"]=[x.split('-')[0] for x in df1[\"period_begin\"]]\n",
    "df1[\"year\"]"
   ]
  },
  {
   "cell_type": "code",
   "execution_count": 21,
   "metadata": {
    "colab": {
     "base_uri": "https://localhost:8080/"
    },
    "id": "T_sBJmSFuODl",
    "outputId": "56b516fc-b0cb-4083-c04a-12a68914b36c"
   },
   "outputs": [
    {
     "name": "stderr",
     "output_type": "stream",
     "text": [
      "<ipython-input-21-156ff0e49b80>:1: SettingWithCopyWarning: \n",
      "A value is trying to be set on a copy of a slice from a DataFrame.\n",
      "Try using .loc[row_indexer,col_indexer] = value instead\n",
      "\n",
      "See the caveats in the documentation: https://pandas.pydata.org/pandas-docs/stable/user_guide/indexing.html#returning-a-view-versus-a-copy\n",
      "  df1[\"month\"]=[x.split('-')[1] for x in df1[\"period_begin\"]]\n"
     ]
    },
    {
     "data": {
      "text/plain": [
       "0          04\n",
       "1          03\n",
       "2          03\n",
       "3          03\n",
       "4          07\n",
       "           ..\n",
       "1945426    09\n",
       "1945427    04\n",
       "1945428    02\n",
       "1945429    12\n",
       "1945430    09\n",
       "Name: month, Length: 1945431, dtype: object"
      ]
     },
     "execution_count": 21,
     "metadata": {},
     "output_type": "execute_result"
    }
   ],
   "source": [
    "df1[\"month\"]=[x.split('-')[1] for x in df1[\"period_begin\"]]\n",
    "df1[\"month\"]"
   ]
  },
  {
   "cell_type": "code",
   "execution_count": 22,
   "metadata": {
    "colab": {
     "base_uri": "https://localhost:8080/"
    },
    "id": "TUQyZA8vupzz",
    "outputId": "4a7e7772-5a34-4f16-9844-c87a7f1a5a7f"
   },
   "outputs": [
    {
     "name": "stderr",
     "output_type": "stream",
     "text": [
      "C:\\Users\\hp\\anaconda3\\lib\\site-packages\\pandas\\core\\frame.py:4308: SettingWithCopyWarning: \n",
      "A value is trying to be set on a copy of a slice from a DataFrame\n",
      "\n",
      "See the caveats in the documentation: https://pandas.pydata.org/pandas-docs/stable/user_guide/indexing.html#returning-a-view-versus-a-copy\n",
      "  return super().drop(\n"
     ]
    }
   ],
   "source": [
    "df1.drop([\"period_begin\",\"period_end\"],axis=1,inplace=True)"
   ]
  },
  {
   "cell_type": "markdown",
   "metadata": {
    "id": "Wyy7x9krv43l"
   },
   "source": [
    "##**Handling null values**"
   ]
  },
  {
   "cell_type": "code",
   "execution_count": 23,
   "metadata": {
    "colab": {
     "base_uri": "https://localhost:8080/"
    },
    "id": "0AzyWFtZv30N",
    "outputId": "7f1aac4f-91e7-483b-cf12-34c6a1e2c5d0"
   },
   "outputs": [
    {
     "data": {
      "text/plain": [
       "region_name                                     0\n",
       "region_type                                     0\n",
       "duration                                        0\n",
       "average_homes_sold                         226324\n",
       "average_homes_sold_yoy                     324949\n",
       "percent_homes_sold_with_price_drops        226324\n",
       "percent_homes_sold_with_price_drops_yoy    324949\n",
       "median_sale_price                          226324\n",
       "median_sale_price_yoy                      324949\n",
       "median_sale_ppsf                           229131\n",
       "median_sale_ppsf_yoy                       328877\n",
       "median_days_to_close                       226324\n",
       "median_days_to_close_yoy                   324949\n",
       "price_drops                                675741\n",
       "pending_sales                              387218\n",
       "pending_sales_yoy                          510427\n",
       "median_pending_sqft                        390187\n",
       "median_pending_sqft_yoy                    514613\n",
       "average_new_listings                       191274\n",
       "average_new_listings_yoy                   284697\n",
       "median_new_listing_price                   192001\n",
       "median_new_listing_price_yoy               285492\n",
       "median_new_listing_ppsf                    195056\n",
       "median_new_listing_ppsf_yoy                289627\n",
       "inventory                                   15632\n",
       "inventory_yoy                               61000\n",
       "active_listings                             13664\n",
       "active_listings_yoy                         58380\n",
       "age_of_inventory                            15632\n",
       "age_of_inventory_yoy                        61000\n",
       "median_active_list_price                    14644\n",
       "median_active_list_price_yoy                59543\n",
       "median_active_list_ppsf                     16533\n",
       "median_active_list_ppsf_yoy                 62905\n",
       "average_sale_to_list_ratio                 229339\n",
       "average_sale_to_list_ratio_yoy             328236\n",
       "median_days_on_market                      234570\n",
       "median_days_on_market_yoy                  335907\n",
       "pending_sales_to_sales_ratio               420800\n",
       "pending_sales_to_sales_ratio_yoy           538331\n",
       "year                                            0\n",
       "month                                           0\n",
       "dtype: int64"
      ]
     },
     "execution_count": 23,
     "metadata": {},
     "output_type": "execute_result"
    }
   ],
   "source": [
    "df1.isna().sum()"
   ]
  },
  {
   "cell_type": "code",
   "execution_count": 24,
   "metadata": {
    "colab": {
     "base_uri": "https://localhost:8080/"
    },
    "id": "OY8RnXK5ySUn",
    "outputId": "49d168cd-7063-47e5-e104-7ecf89e98cc0"
   },
   "outputs": [
    {
     "data": {
      "text/plain": [
       "Index(['average_homes_sold', 'average_homes_sold_yoy',\n",
       "       'percent_homes_sold_with_price_drops',\n",
       "       'percent_homes_sold_with_price_drops_yoy', 'median_sale_price',\n",
       "       'median_sale_price_yoy', 'median_sale_ppsf', 'median_sale_ppsf_yoy',\n",
       "       'median_days_to_close', 'median_days_to_close_yoy', 'price_drops',\n",
       "       'pending_sales', 'pending_sales_yoy', 'median_pending_sqft',\n",
       "       'median_pending_sqft_yoy', 'average_new_listings',\n",
       "       'average_new_listings_yoy', 'median_new_listing_price',\n",
       "       'median_new_listing_price_yoy', 'median_new_listing_ppsf',\n",
       "       'median_new_listing_ppsf_yoy', 'inventory', 'inventory_yoy',\n",
       "       'active_listings', 'active_listings_yoy', 'age_of_inventory',\n",
       "       'age_of_inventory_yoy', 'median_active_list_price',\n",
       "       'median_active_list_price_yoy', 'median_active_list_ppsf',\n",
       "       'median_active_list_ppsf_yoy', 'average_sale_to_list_ratio',\n",
       "       'average_sale_to_list_ratio_yoy', 'median_days_on_market',\n",
       "       'median_days_on_market_yoy', 'pending_sales_to_sales_ratio',\n",
       "       'pending_sales_to_sales_ratio_yoy'],\n",
       "      dtype='object')"
      ]
     },
     "execution_count": 24,
     "metadata": {},
     "output_type": "execute_result"
    }
   ],
   "source": [
    "cols=df1.columns[df1.isnull().any()]\n",
    "cols"
   ]
  },
  {
   "cell_type": "code",
   "execution_count": 25,
   "metadata": {
    "colab": {
     "base_uri": "https://localhost:8080/"
    },
    "id": "2_3vifHlxSYW",
    "outputId": "caaa9308-5711-41b7-efa0-5a3d00ed6ee7"
   },
   "outputs": [
    {
     "name": "stderr",
     "output_type": "stream",
     "text": [
      "C:\\Users\\hp\\anaconda3\\lib\\site-packages\\pandas\\core\\series.py:4463: SettingWithCopyWarning: \n",
      "A value is trying to be set on a copy of a slice from a DataFrame\n",
      "\n",
      "See the caveats in the documentation: https://pandas.pydata.org/pandas-docs/stable/user_guide/indexing.html#returning-a-view-versus-a-copy\n",
      "  return super().fillna(\n"
     ]
    }
   ],
   "source": [
    "for col in cols:\n",
    "  df1[col].fillna(df1[col].mean(),inplace=True)"
   ]
  },
  {
   "cell_type": "code",
   "execution_count": 26,
   "metadata": {
    "colab": {
     "base_uri": "https://localhost:8080/"
    },
    "id": "4OARRcYKzS2i",
    "outputId": "bf302a46-287f-4232-80d5-d27a3bb8f927"
   },
   "outputs": [
    {
     "data": {
      "text/plain": [
       "region_name                                0\n",
       "region_type                                0\n",
       "duration                                   0\n",
       "average_homes_sold                         0\n",
       "average_homes_sold_yoy                     0\n",
       "percent_homes_sold_with_price_drops        0\n",
       "percent_homes_sold_with_price_drops_yoy    0\n",
       "median_sale_price                          0\n",
       "median_sale_price_yoy                      0\n",
       "median_sale_ppsf                           0\n",
       "median_sale_ppsf_yoy                       0\n",
       "median_days_to_close                       0\n",
       "median_days_to_close_yoy                   0\n",
       "price_drops                                0\n",
       "pending_sales                              0\n",
       "pending_sales_yoy                          0\n",
       "median_pending_sqft                        0\n",
       "median_pending_sqft_yoy                    0\n",
       "average_new_listings                       0\n",
       "average_new_listings_yoy                   0\n",
       "median_new_listing_price                   0\n",
       "median_new_listing_price_yoy               0\n",
       "median_new_listing_ppsf                    0\n",
       "median_new_listing_ppsf_yoy                0\n",
       "inventory                                  0\n",
       "inventory_yoy                              0\n",
       "active_listings                            0\n",
       "active_listings_yoy                        0\n",
       "age_of_inventory                           0\n",
       "age_of_inventory_yoy                       0\n",
       "median_active_list_price                   0\n",
       "median_active_list_price_yoy               0\n",
       "median_active_list_ppsf                    0\n",
       "median_active_list_ppsf_yoy                0\n",
       "average_sale_to_list_ratio                 0\n",
       "average_sale_to_list_ratio_yoy             0\n",
       "median_days_on_market                      0\n",
       "median_days_on_market_yoy                  0\n",
       "pending_sales_to_sales_ratio               0\n",
       "pending_sales_to_sales_ratio_yoy           0\n",
       "year                                       0\n",
       "month                                      0\n",
       "dtype: int64"
      ]
     },
     "execution_count": 26,
     "metadata": {},
     "output_type": "execute_result"
    }
   ],
   "source": [
    "df1.isna().sum()"
   ]
  },
  {
   "cell_type": "markdown",
   "metadata": {
    "id": "SWybHqv6JHon"
   },
   "source": [
    "##**Finding county name from region name**"
   ]
  },
  {
   "cell_type": "code",
   "execution_count": null,
   "metadata": {
    "colab": {
     "base_uri": "https://localhost:8080/"
    },
    "id": "cgxY695JJGmK",
    "outputId": "a859d3ba-1307-4656-f791-3b6ce2bd165c"
   },
   "outputs": [
    {
     "name": "stderr",
     "output_type": "stream",
     "text": [
      "<ipython-input-27-1539294bd9c0>:1: SettingWithCopyWarning: \n",
      "A value is trying to be set on a copy of a slice from a DataFrame.\n",
      "Try using .loc[row_indexer,col_indexer] = value instead\n",
      "\n",
      "See the caveats in the documentation: https://pandas.pydata.org/pandas-docs/stable/user_guide/indexing.html#returning-a-view-versus-a-copy\n",
      "  df1[\"county\"]=[x.split(',')[0] for x in df1[\"region_name\"]]\n"
     ]
    }
   ],
   "source": [
    "df1[\"county\"]=[x.split(',')[0] for x in df1[\"region_name\"]]\n",
    "for i in range(len(df1)):\n",
    "  l=df1.iloc[i]['county'].split(' ')\n",
    "  if len(l)>1:\n",
    "    df1.at[i,'county']=l[0]\n",
    "  df1.at[i,'county']=df1.at[i,'county'].strip()"
   ]
  },
  {
   "cell_type": "markdown",
   "metadata": {
    "id": "0_0MXpFZ4jOK"
   },
   "source": [
    "##**Finding State name of each entry**"
   ]
  },
  {
   "cell_type": "code",
   "execution_count": null,
   "metadata": {
    "colab": {
     "base_uri": "https://localhost:8080/"
    },
    "id": "-_kuHpbowtWD",
    "outputId": "59420370-dabc-499f-a087-f3326c75d50c"
   },
   "outputs": [],
   "source": [
    "df1[\"state\"]=[x.split(',')[-1] for x in df1[\"region_name\"]]\n",
    "df1[\"state\"]"
   ]
  },
  {
   "cell_type": "markdown",
   "metadata": {
    "id": "U9DD7qdBN0lz"
   },
   "source": [
    "## **Slicing 'metro area' from State name**"
   ]
  },
  {
   "cell_type": "code",
   "execution_count": null,
   "metadata": {
    "id": "2ov6aFstNIk1"
   },
   "outputs": [],
   "source": [
    "for i in range(len(df1)):\n",
    "  l=df1.iloc[i]['state'].split(' ')\n",
    "  if len(l)>2:\n",
    "    df1.at[i,'state']=l[1]\n",
    "  df1.at[i,'state']=df1.at[i,'state'].strip()"
   ]
  },
  {
   "cell_type": "code",
   "execution_count": null,
   "metadata": {
    "colab": {
     "base_uri": "https://localhost:8080/"
    },
    "id": "FySIEUOxwvlN",
    "outputId": "a5eddada-48ee-4cf2-bb4a-ec5e047364d4"
   },
   "outputs": [],
   "source": [
    "df1[\"state\"].value_counts()"
   ]
  },
  {
   "cell_type": "markdown",
   "metadata": {
    "id": "R-hY11kD4rwn"
   },
   "source": [
    "##**Group data by State name, region type, region name, year and month**"
   ]
  },
  {
   "cell_type": "code",
   "execution_count": null,
   "metadata": {
    "colab": {
     "base_uri": "https://localhost:8080/"
    },
    "id": "Bg72iIhZoXfb",
    "outputId": "fca5248c-ec69-43bc-eb83-70507a0ba27f"
   },
   "outputs": [],
   "source": [
    "df1.groupby([\"state\",\"region_type\",\"region_name\",\"year\",\"month\"]).first()"
   ]
  },
  {
   "cell_type": "markdown",
   "metadata": {
    "id": "eeVCRqQ_0c8C"
   },
   "source": [
    "# Visuals"
   ]
  },
  {
   "cell_type": "code",
   "execution_count": null,
   "metadata": {
    "colab": {
     "base_uri": "https://localhost:8080/"
    },
    "id": "r-opljeX22oc",
    "outputId": "7835b1a1-b9f7-42b9-e301-d6d1b5dd3f58"
   },
   "outputs": [],
   "source": [
    "fig1=px.sunburst(df1,path=[\"state\",\"region_type\",\"region_name\",\"year\",\"month\"],values='median_sale_price')\n",
    "fig1.show()"
   ]
  },
  {
   "cell_type": "markdown",
   "metadata": {
    "id": "DSbBdblVz4j1"
   },
   "source": [
    "**Correlation between attributes**"
   ]
  },
  {
   "cell_type": "code",
   "execution_count": null,
   "metadata": {
    "colab": {
     "base_uri": "https://localhost:8080/"
    },
    "id": "BCANZiWQ4xTr",
    "outputId": "8b39bba2-f38b-45c8-c84c-69c0bedf5cfd"
   },
   "outputs": [],
   "source": [
    "corr=df1.corr()\n",
    "corr"
   ]
  },
  {
   "cell_type": "code",
   "execution_count": null,
   "metadata": {
    "colab": {
     "base_uri": "https://localhost:8080/"
    },
    "id": "bArOJ92J5FIU",
    "outputId": "4f802c92-cd21-46eb-b467-bea61a8175e2"
   },
   "outputs": [],
   "source": [
    "plt.subplots(figsize=(100,50))\n",
    "bx3=sns.heatmap(corr,vmin=-1,vmax=1,annot=True)"
   ]
  },
  {
   "cell_type": "markdown",
   "metadata": {
    "id": "5RWY1UbfUa9D"
   },
   "source": [
    "##**Basic plots**"
   ]
  },
  {
   "cell_type": "code",
   "execution_count": null,
   "metadata": {
    "id": "HUC39hUt0uz7"
   },
   "outputs": [],
   "source": [
    "y1=list(df1[\"state\"].value_counts())\n",
    "x1=df1[\"state\"].value_counts().index"
   ]
  },
  {
   "cell_type": "code",
   "execution_count": null,
   "metadata": {
    "colab": {
     "base_uri": "https://localhost:8080/"
    },
    "id": "VMq99gfy3Uwb",
    "outputId": "a6ae052e-ee8b-4ef3-fa2b-4017d1fdc7ae"
   },
   "outputs": [],
   "source": [
    "fig1=px.bar(x=x1,y=y1,labels={\"x\":\"States\",\"y\": \"Number of regions\" },title=\"Number of regions per State\")\n",
    "fig1.show()"
   ]
  },
  {
   "cell_type": "code",
   "execution_count": null,
   "metadata": {
    "id": "saWsTHkf1Aaz"
   },
   "outputs": [],
   "source": [
    "y2=list(df1[\"region_type\"].value_counts())\n",
    "x2=df1[\"region_type\"].value_counts().index"
   ]
  },
  {
   "cell_type": "code",
   "execution_count": null,
   "metadata": {
    "colab": {
     "base_uri": "https://localhost:8080/"
    },
    "id": "FLnQezlkHl_V",
    "outputId": "f75c76a4-2e6d-4d7a-caf7-5ce79eec187c"
   },
   "outputs": [],
   "source": [
    "fig2=px.bar(x=x2,y=y2,labels={\"x\":\"Regions type\",\"y\": \"Count\" },title=\"Number of regions types\")\n",
    "fig2.show()"
   ]
  },
  {
   "cell_type": "code",
   "execution_count": null,
   "metadata": {
    "id": "QGpGfU9O1INc"
   },
   "outputs": [],
   "source": [
    "y3=list(df1[\"year\"].value_counts())\n",
    "x3=df1[\"year\"].value_counts().index"
   ]
  },
  {
   "cell_type": "code",
   "execution_count": null,
   "metadata": {
    "colab": {
     "base_uri": "https://localhost:8080/"
    },
    "id": "Vwn_5ZIdH791",
    "outputId": "8dacbd5a-a554-48ff-f942-58135cb0ecb8"
   },
   "outputs": [],
   "source": [
    "fig3=px.bar(x=x3,y=y3,labels={\"x\":\"Year\",\"y\": \"Value count\" },title= \"Year value counts\")\n",
    "fig3.show()"
   ]
  },
  {
   "cell_type": "code",
   "execution_count": null,
   "metadata": {
    "id": "wDg6d4br1KIv"
   },
   "outputs": [],
   "source": [
    "y4=list(df1[\"month\"].value_counts())\n",
    "x4=df1[\"month\"].value_counts().index"
   ]
  },
  {
   "cell_type": "code",
   "execution_count": null,
   "metadata": {
    "colab": {
     "base_uri": "https://localhost:8080/"
    },
    "id": "sz0XYIMqH9Ee",
    "outputId": "19a2483d-b509-46f4-8be0-12633516ff81"
   },
   "outputs": [],
   "source": [
    "fig4=px.bar(x=x4,y=y4,labels={\"x\":\"Month\",\"y\": \"Value count\" },title= \"Month value counts\")\n",
    "fig4.show()"
   ]
  },
  {
   "cell_type": "code",
   "execution_count": null,
   "metadata": {
    "id": "oUimidEw0Ufk"
   },
   "outputs": [],
   "source": [
    "y5=list(df1[\"duration\"].value_counts())\n",
    "x5=df1[\"duration\"].value_counts().index"
   ]
  },
  {
   "cell_type": "code",
   "execution_count": null,
   "metadata": {
    "colab": {
     "base_uri": "https://localhost:8080/"
    },
    "id": "SIDIIUcxH-CP",
    "outputId": "a86f6940-801c-41ee-818f-8075b029262e"
   },
   "outputs": [],
   "source": [
    "fig5=px.bar(x=x5,y=y5,labels={\"x\":\"Duration window\",\"y\": \"Value count\" },title= \"Duration window value counts\")\n",
    "fig5.show()"
   ]
  },
  {
   "cell_type": "markdown",
   "metadata": {
    "id": "TC4G-mnkWoSj"
   },
   "source": [
    "##**State wise stats**"
   ]
  },
  {
   "cell_type": "code",
   "execution_count": null,
   "metadata": {
    "colab": {
     "base_uri": "https://localhost:8080/"
    },
    "id": "oWj27zdOXG_j",
    "outputId": "d3f7c156-6b29-4c6e-bb15-8774a38b5d08"
   },
   "outputs": [],
   "source": [
    "df1['state'].unique()"
   ]
  },
  {
   "cell_type": "code",
   "execution_count": null,
   "metadata": {
    "colab": {
     "base_uri": "https://localhost:8080/"
    },
    "id": "WUIkomwxX7U1",
    "outputId": "770fe033-0af3-4fc8-f180-55db0e706dc6"
   },
   "outputs": [],
   "source": [
    "len(df1['state'].unique())"
   ]
  },
  {
   "cell_type": "markdown",
   "metadata": {
    "id": "nCyVDgv9dA2U"
   },
   "source": [
    "###**County stats state wise**"
   ]
  },
  {
   "cell_type": "code",
   "execution_count": null,
   "metadata": {
    "id": "xrGLMR5EWKeh"
   },
   "outputs": [],
   "source": [
    "county=df1[df1['region_type']=='county']"
   ]
  },
  {
   "cell_type": "code",
   "execution_count": null,
   "metadata": {
    "colab": {
     "base_uri": "https://localhost:8080/"
    },
    "id": "i5XlPQzCMiEw",
    "outputId": "2765cc9e-09ab-443b-c1a4-8a280cc93aba"
   },
   "outputs": [],
   "source": [
    "grp1=county.groupby([\"state\"]).mean().reset_index()\n",
    "grp1"
   ]
  },
  {
   "cell_type": "code",
   "execution_count": null,
   "metadata": {
    "colab": {
     "base_uri": "https://localhost:8080/"
    },
    "id": "3HLTEbNGVKfg",
    "outputId": "73cd348d-0355-4f5b-cd10-a8553b898f2b"
   },
   "outputs": [],
   "source": [
    "fig5=px.bar(grp1,x='state',y='average_homes_sold',title= \"Average homes sold in each State\",barmode='group')\n",
    "fig5.show()"
   ]
  },
  {
   "cell_type": "code",
   "execution_count": null,
   "metadata": {
    "colab": {
     "base_uri": "https://localhost:8080/"
    },
    "id": "su35j9AGYSLM",
    "outputId": "d8cfcf43-fe86-4a2f-d726-5fe51990d6af"
   },
   "outputs": [],
   "source": [
    "fig6=px.bar(grp1,x='state',y='median_sale_price',title= \"Median sale price in each State\")\n",
    "fig6.show()"
   ]
  },
  {
   "cell_type": "code",
   "execution_count": null,
   "metadata": {
    "colab": {
     "base_uri": "https://localhost:8080/"
    },
    "id": "LUzHAQuybobB",
    "outputId": "481cdd68-ef31-42fb-a1e3-9866d35f1c6a"
   },
   "outputs": [],
   "source": [
    "fig7=px.bar(grp1,x='state',y='median_sale_ppsf',title= \"Median sale price per square feet in each State\")\n",
    "fig7.show()"
   ]
  },
  {
   "cell_type": "code",
   "execution_count": null,
   "metadata": {
    "colab": {
     "base_uri": "https://localhost:8080/"
    },
    "id": "po2PM3bacPDr",
    "outputId": "d069538a-a43e-4c65-e797-55b27b6b44ac"
   },
   "outputs": [],
   "source": [
    "fig8=px.bar(grp1,x='state',y='median_days_on_market',title= \"Median days on market in each State\")\n",
    "fig8.show()"
   ]
  },
  {
   "cell_type": "code",
   "execution_count": null,
   "metadata": {
    "colab": {
     "base_uri": "https://localhost:8080/"
    },
    "id": "UXtaXsx0cb16",
    "outputId": "e696d127-4ca4-460a-fd2d-9b4949f1cfe7"
   },
   "outputs": [],
   "source": [
    "fig9=px.bar(grp1,x='state',y='price_drops',title= \"Price drops in each State\")\n",
    "fig9.show()"
   ]
  },
  {
   "cell_type": "code",
   "execution_count": null,
   "metadata": {
    "colab": {
     "base_uri": "https://localhost:8080/"
    },
    "id": "vEkoh_3NcsDw",
    "outputId": "b6070c9f-4c6e-4248-cfe5-f903121b71c9"
   },
   "outputs": [],
   "source": [
    "fig10=px.bar(grp1,x='state',y='average_new_listings',title= \"Average new listings in each State\")\n",
    "fig10.show()"
   ]
  },
  {
   "cell_type": "markdown",
   "metadata": {
    "id": "QD2JRMKadJot"
   },
   "source": [
    "###**Metro stats state wise**"
   ]
  },
  {
   "cell_type": "code",
   "execution_count": null,
   "metadata": {
    "id": "lh03rHWmdHgJ"
   },
   "outputs": [],
   "source": [
    "metro=df1[df1['region_type']=='metro']"
   ]
  },
  {
   "cell_type": "code",
   "execution_count": null,
   "metadata": {
    "colab": {
     "base_uri": "https://localhost:8080/"
    },
    "id": "vFCga5eRdbCU",
    "outputId": "d7d8e2d7-690c-4194-fb3b-3c6f59b6ed6d"
   },
   "outputs": [],
   "source": [
    "grp2=metro.groupby([\"state\"]).mean().reset_index()\n",
    "grp2"
   ]
  },
  {
   "cell_type": "code",
   "execution_count": null,
   "metadata": {
    "colab": {
     "base_uri": "https://localhost:8080/"
    },
    "id": "OhJM7L_geH_O",
    "outputId": "a41c35e4-252d-4b08-efcd-a90e50277bc6"
   },
   "outputs": [],
   "source": [
    "grp2.drop(38,inplace=True)"
   ]
  },
  {
   "cell_type": "code",
   "execution_count": null,
   "metadata": {
    "colab": {
     "base_uri": "https://localhost:8080/"
    },
    "id": "kwJ2_wdOdgMQ",
    "outputId": "334debb9-4119-4088-b96d-5e66f60be35a"
   },
   "outputs": [],
   "source": [
    "fig11=px.bar(grp2,x='state',y='average_homes_sold',title= \"Average homes sold in each State\",barmode='group')\n",
    "fig11.show()"
   ]
  },
  {
   "cell_type": "code",
   "execution_count": null,
   "metadata": {
    "colab": {
     "base_uri": "https://localhost:8080/"
    },
    "id": "puNcBgMJeiOr",
    "outputId": "85c499ec-af7b-4e7f-9936-01a68714132f"
   },
   "outputs": [],
   "source": [
    "fig12=px.bar(grp2,x='state',y='median_sale_price',title= \"Median sale price in each State\")\n",
    "fig12.show()"
   ]
  },
  {
   "cell_type": "code",
   "execution_count": null,
   "metadata": {
    "colab": {
     "base_uri": "https://localhost:8080/"
    },
    "id": "cKWVjPoUenvK",
    "outputId": "119d7098-da1d-45bb-e69d-b29a42e04534"
   },
   "outputs": [],
   "source": [
    "fig13=px.bar(grp2,x='state',y='median_sale_ppsf',title= \"Median sale price per square feet in each State\")\n",
    "fig13.show()"
   ]
  },
  {
   "cell_type": "code",
   "execution_count": null,
   "metadata": {
    "colab": {
     "base_uri": "https://localhost:8080/"
    },
    "id": "DJDfmWBFevm1",
    "outputId": "ada2d623-ff88-4ce3-ede9-c381d18b9d87"
   },
   "outputs": [],
   "source": [
    "fig14=px.bar(grp2,x='state',y='median_days_on_market',title= \"Median days on market in each State\")\n",
    "fig14.show()"
   ]
  },
  {
   "cell_type": "code",
   "execution_count": null,
   "metadata": {
    "colab": {
     "base_uri": "https://localhost:8080/"
    },
    "id": "rTSpTD5vbY4I",
    "outputId": "bfc49106-b00e-41c8-ed11-b377e7b0f51e"
   },
   "outputs": [],
   "source": [
    "fig14=px.bar(grp2,x='state',y='price_drops',title= \"Price drops in each State\")\n",
    "fig14.show()"
   ]
  },
  {
   "cell_type": "code",
   "execution_count": null,
   "metadata": {
    "colab": {
     "base_uri": "https://localhost:8080/"
    },
    "id": "3PGwVHhgfERk",
    "outputId": "b2d5deb4-d284-4ec0-e791-9d3cb811791c"
   },
   "outputs": [],
   "source": [
    "fig15=px.bar(grp2,x='state',y='average_new_listings',title= \"Average new listings in each State\")\n",
    "fig15.show()"
   ]
  }
 ],
 "metadata": {
  "colab": {
   "collapsed_sections": [],
   "name": "US Housing Market Dynamics preprocessing",
   "provenance": [],
   "toc_visible": true
  },
  "kernelspec": {
   "display_name": "Python 3",
   "language": "python",
   "name": "python3"
  },
  "language_info": {
   "codemirror_mode": {
    "name": "ipython",
    "version": 3
   },
   "file_extension": ".py",
   "mimetype": "text/x-python",
   "name": "python",
   "nbconvert_exporter": "python",
   "pygments_lexer": "ipython3",
   "version": "3.8.8"
  }
 },
 "nbformat": 4,
 "nbformat_minor": 1
}
